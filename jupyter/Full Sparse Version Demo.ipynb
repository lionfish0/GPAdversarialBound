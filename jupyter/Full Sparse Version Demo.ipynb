{
 "cells": [
  {
   "cell_type": "code",
   "execution_count": 7,
   "metadata": {},
   "outputs": [],
   "source": [
    "from boundmixofgaussians import findpeak, compute_sum, compute_grad\n",
    "import numpy as np\n",
    "np.set_printoptions(suppress=True,precision=6)\n",
    "import matplotlib.pyplot as plt\n",
    "%matplotlib inline\n",
    "from GPAdversarialBound import getallchanges, zeromean_gaussian, getbound, AdversBound, compute_bounds\n",
    "from GPAdversarialBound.logistic import get_logistic_result\n",
    "from GPAdversarialDatasets import getMNISTexample, getbankexample, getcreditexample, getspamexample,getsynthexample\n",
    "\n",
    "# from GPAdversarialBound.test import testing\n",
    "# testing()"
   ]
  },
  {
   "cell_type": "markdown",
   "metadata": {},
   "source": [
    "## MNIST Demo"
   ]
  },
  {
   "cell_type": "code",
   "execution_count": 5,
   "metadata": {},
   "outputs": [
    {
     "name": "stdout",
     "output_type": "stream",
     "text": [
      "Comparing 3 vs 5\n"
     ]
    }
   ],
   "source": [
    "trainingN = 100\n",
    "testN = 200\n",
    "fullX,Y = getMNISTexample(scalingfactor=4,Ntraining=trainingN+testN,splittype='35') #4\n",
    "keep = np.max(fullX,0)>50 #150\n",
    "X = fullX[:,keep]\n",
    "X=X-np.min(X,0)\n",
    "X=X/np.max(X,0)\n",
    "X = X*1.0\n",
    "Y = Y*1.0\n",
    "Y[Y==0]=-1\n",
    "Xtest = X[trainingN:,:]\n",
    "Ytest = Y[trainingN:,:]\n",
    "Xtrain = X[0:trainingN,:]\n",
    "Ytrain = Y[0:trainingN,:]"
   ]
  },
  {
   "cell_type": "markdown",
   "metadata": {},
   "source": [
    "Comparing sparse approximation with basic result"
   ]
  },
  {
   "cell_type": "code",
   "execution_count": 6,
   "metadata": {},
   "outputs": [
    {
     "name": "stderr",
     "output_type": "stream",
     "text": [
      "reconstraining parameters gp_classification.rbf.variance\n",
      "reconstraining parameters sparse_gp.rbf.variance\n",
      "reconstraining parameters gp_classification.rbf.variance\n"
     ]
    },
    {
     "name": "stdout",
     "output_type": "stream",
     "text": [
      "0.625\n",
      "[2.274482]\n",
      "0.6\n",
      "[1.428104]\n"
     ]
    },
    {
     "data": {
      "text/plain": [
       "(array([0., 0., 0., 0., 0., 0., 0., 0., 0., 0., 0., 0., 0., 0., 0., 1., 4.,\n",
       "        2., 5.]),\n",
       " array([0. , 0.2, 0.4, 0.6, 0.8, 1. , 1.2, 1.4, 1.6, 1.8, 2. , 2.2, 2.4,\n",
       "        2.6, 2.8, 3. , 3.2, 3.4, 3.6, 3.8]),\n",
       " <a list of 1 Patch objects>)"
      ]
     },
     "execution_count": 6,
     "metadata": {},
     "output_type": "execute_result"
    },
    {
     "data": {
      "image/png": "[encoded data removed]",
      "text/plain": [
       "<Figure size 432x288 with 1 Axes>"
      ]
     },
     "metadata": {},
     "output_type": "display_data"
    }
   ],
   "source": [
    "results, _, _, accuracy, abCI = compute_bounds(Xtrain,Ytrain,Xtest,Ytest,1, 4, 1.0, 0.5, 0.0001,2)\n",
    "print(accuracy)\n",
    "print(np.diff(abCI))\n",
    "plt.hist([np.max(res[0]) for res in results],bins=np.arange(0,4,0.2),alpha=0.3)\n",
    "\n",
    "results, _, _, accuracy, abCI = compute_bounds(Xtrain,Ytrain,Xtest,Ytest,1,False, 1.0, 0.5, 0.0001,2)\n",
    "print(accuracy)\n",
    "print(np.diff(abCI))\n",
    "plt.hist([np.max(res[0]) for res in results],bins=np.arange(0,4,0.2),alpha=0.3,histtype='stepfilled')"
   ]
  },
  {
   "cell_type": "code",
   "execution_count": 13,
   "metadata": {},
   "outputs": [],
   "source": [
    "logres = get_logistic_result(Xtrain,Ytrain,Xtest,Ytest)\n",
    "#print(\"C, Score, cumulativelatents[0], cumulativelatents[1], cumulativelatents[2], cumulativelatents[3], cumulativelatents[4], ci, pixelsneeded\")\n",
    "#for r in logres:\n",
    "#    print(\"%0.2f, %0.2f, %0.2f, %0.2f, %0.2f, %0.2f, %0.2f, %0.2f, %d\" % tuple(r))"
   ]
  },
  {
   "cell_type": "markdown",
   "metadata": {},
   "source": [
    "The distance between the 5th and 95th percentile training points is reported above in [brackets]. Both computations seem to end up above these thresholds."
   ]
  },
  {
   "cell_type": "markdown",
   "metadata": {},
   "source": [
    "There is an additional process in which the largest results are recomputed with a tighter bound:"
   ]
  },
  {
   "cell_type": "code",
   "execution_count": 13,
   "metadata": {
    "scrolled": true
   },
   "outputs": [
    {
     "name": "stderr",
     "output_type": "stream",
     "text": [
      "reconstraining parameters gp_classification.rbf.variance\n",
      "reconstraining parameters sparse_gp.rbf.variance\n"
     ]
    },
    {
     "name": "stdout",
     "output_type": "stream",
     "text": [
      "2.6079 --> 1.3344\n",
      "1.3344 2.2882 2.5983\n",
      "2.5983 --> 1.3700\n",
      "1.3344 2.2200 2.5932\n",
      "2.5932 --> 1.3555\n",
      "1.3344 2.1512 2.5909\n",
      "2.5909 --> 1.3451\n",
      "1.3344 2.0820 2.5612\n",
      "2.5612 --> 1.4119\n",
      "1.3344 2.0181 2.5571\n",
      "2.5571 --> 1.5164\n",
      "1.3344 1.9603 2.5452\n",
      "2.5452 --> 1.3643\n",
      "1.3344 1.8947 2.4514\n",
      "2.4514 --> 1.7524\n",
      "1.3344 1.8559 2.4413\n",
      "2.4413 --> 1.3664\n",
      "1.3344 1.7962 2.3977\n",
      "2.3977 --> 1.7143\n",
      "1.3344 1.7582 2.3606\n",
      "0.7\n"
     ]
    },
    {
     "data": {
      "text/plain": [
       "(array([0., 0., 0., 0., 0., 0., 6., 2., 2., 2., 2., 4., 0., 0., 0., 0., 0.,\n",
       "        0., 0.]),\n",
       " array([0. , 0.2, 0.4, 0.6, 0.8, 1. , 1.2, 1.4, 1.6, 1.8, 2. , 2.2, 2.4,\n",
       "        2.6, 2.8, 3. , 3.2, 3.4, 3.6, 3.8]),\n",
       " <a list of 19 Patch objects>)"
      ]
     },
     "execution_count": 13,
     "metadata": {},
     "output_type": "execute_result"
    },
    {
     "data": {
      "image/png": "[encoded data removed]",
      "text/plain": [
       "<Figure size 432x288 with 1 Axes>"
      ]
     },
     "metadata": {},
     "output_type": "display_data"
    }
   ],
   "source": [
    "results, _, _, accuracy, abCI = compute_bounds(Xtrain,Ytrain,Xtest,Ytest,1,4, 1.0, 0.5, 0.0001,2,50,2,(7, 10))\n",
    "print(accuracy)\n",
    "plt.hist([np.max(res[0]) for res in results],bins=np.arange(0,4,0.2))"
   ]
  },
  {
   "cell_type": "code",
   "execution_count": 15,
   "metadata": {},
   "outputs": [
    {
     "name": "stdout",
     "output_type": "stream",
     "text": [
      "[2.730865]\n"
     ]
    }
   ],
   "source": [
    "print(np.diff(abCI))"
   ]
  },
  {
   "cell_type": "markdown",
   "metadata": {},
   "source": [
    "In the above example all the possible paths considered are now below this threshold, so we know at least two pixels need changing."
   ]
  }
 ],
 "metadata": {
  "kernelspec": {
   "display_name": "Python 3",
   "language": "python",
   "name": "python3"
  },
  "language_info": {
   "codemirror_mode": {
    "name": "ipython",
    "version": 3
   },
   "file_extension": ".py",
   "mimetype": "text/x-python",
   "name": "python",
   "nbconvert_exporter": "python",
   "pygments_lexer": "ipython3",
   "version": "3.6.8"
  }
 },
 "nbformat": 4,
 "nbformat_minor": 2
}
