{
 "cells": [
  {
   "cell_type": "code",
   "execution_count": 1,
   "metadata": {},
   "outputs": [],
   "source": [
    "from boundmixofgaussians import findpeak, compute_sum, compute_grad\n",
    "import numpy as np\n",
    "np.set_printoptions(suppress=True,precision=6)\n",
    "import matplotlib.pyplot as plt\n",
    "%matplotlib inline\n",
    "from GPAdversarialBound import getallchanges, zeromean_gaussian, getbound, AdversBound, compute_bounds\n",
    "from GPAdversarialDatasets import getMNISTexample\n",
    "\n",
    "# from GPAdversarialBound.test import testing\n",
    "# testing()"
   ]
  },
  {
   "cell_type": "markdown",
   "metadata": {},
   "source": [
    "## MNIST Demo"
   ]
  },
  {
   "cell_type": "code",
   "execution_count": 2,
   "metadata": {},
   "outputs": [],
   "source": [
    "trainingN = 100\n",
    "testN = 200\n",
    "fullX,Y = getMNISTexample(scalingfactor=4,Ntraining=trainingN+testN,splitfiveormore=False) #4\n",
    "keep = np.max(fullX,0)>50 #150\n",
    "X = fullX[:,keep]\n",
    "X=X-np.min(X,0)\n",
    "X=X/np.max(X,0)\n",
    "X = X*1.0\n",
    "Y = Y*1.0\n",
    "Y[Y==0]=-1\n",
    "Xtest = X[trainingN:,:]\n",
    "Ytest = Y[trainingN:,:]\n",
    "Xtrain = X[0:trainingN,:]\n",
    "Ytrain = Y[0:trainingN,:]"
   ]
  },
  {
   "cell_type": "markdown",
   "metadata": {},
   "source": [
    "Comparing sparse approximation with basic result"
   ]
  },
  {
   "cell_type": "code",
   "execution_count": 5,
   "metadata": {},
   "outputs": [
    {
     "name": "stderr",
     "output_type": "stream",
     "text": [
      "reconstraining parameters gp_classification.rbf.variance\n",
      "reconstraining parameters sparse_gp.rbf.variance\n",
      "reconstraining parameters gp_classification.rbf.variance\n"
     ]
    },
    {
     "name": "stdout",
     "output_type": "stream",
     "text": [
      "0.7\n",
      "0.68\n"
     ]
    },
    {
     "data": {
      "text/plain": [
       "(array([0., 0., 0., 0., 0., 0., 0., 0., 0., 0., 0., 1., 0., 2., 3., 9., 3.,\n",
       "        0., 0.]),\n",
       " array([0. , 0.2, 0.4, 0.6, 0.8, 1. , 1.2, 1.4, 1.6, 1.8, 2. , 2.2, 2.4,\n",
       "        2.6, 2.8, 3. , 3.2, 3.4, 3.6, 3.8]),\n",
       " <a list of 19 Patch objects>)"
      ]
     },
     "execution_count": 5,
     "metadata": {},
     "output_type": "execute_result"
    },
    {
     "data": {
      "image/png": "[encoded data removed]",
      "text/plain": [
       "<Figure size 432x288 with 1 Axes>"
      ]
     },
     "metadata": {},
     "output_type": "display_data"
    }
   ],
   "source": [
    "results, _, _, accuracy = compute_bounds(Xtrain,Ytrain,Xtest,Ytest,1, 4, 1.0, 0.5, 0.0001,2)\n",
    "print(accuracy)\n",
    "plt.hist([np.max(res[0]) for res in results],bins=np.arange(0,4,0.2))\n",
    "\n",
    "results, _, _, accuracy = compute_bounds(Xtrain,Ytrain,Xtest,Ytest,1,False, 1.0, 0.5, 0.0001,2)\n",
    "print(accuracy)\n",
    "plt.hist([np.max(res[0]) for res in results],bins=np.arange(0,4,0.2))"
   ]
  },
  {
   "cell_type": "markdown",
   "metadata": {},
   "source": [
    "There is an additional process in which the largest results are recomputed with a tighter bound:"
   ]
  },
  {
   "cell_type": "code",
   "execution_count": 9,
   "metadata": {
    "scrolled": true
   },
   "outputs": [
    {
     "name": "stderr",
     "output_type": "stream",
     "text": [
      "reconstraining parameters gp_classification.rbf.variance\n",
      "reconstraining parameters sparse_gp.rbf.variance\n"
     ]
    },
    {
     "name": "stdout",
     "output_type": "stream",
     "text": [
      "2.6080 --> 1.3362\n",
      "1.3362 2.2885 2.6007\n",
      "2.6007 --> 1.3700\n",
      "1.3362 2.2201 2.5925\n",
      "2.5925 --> 1.3555\n",
      "1.3362 2.1514 2.5910\n",
      "2.5910 --> 1.3451\n",
      "1.3362 2.0822 2.5614\n",
      "2.5614 --> 1.4114\n",
      "1.3362 2.0183 2.5573\n",
      "2.5573 --> 1.5165\n",
      "1.3362 1.9605 2.5454\n",
      "2.5454 --> 1.3662\n",
      "1.3362 1.8950 2.4515\n",
      "2.4515 --> 1.7523\n",
      "1.3362 1.8561 2.4414\n",
      "2.4414 --> 1.3655\n",
      "1.3362 1.7963 2.3979\n",
      "2.3979 --> 1.7148\n",
      "1.3362 1.7584 2.3608\n",
      "2.3608 --> 1.3181\n",
      "1.3181 1.7005 2.3176\n",
      "2.3176 --> 1.6615\n",
      "1.3181 1.6640 2.2832\n",
      "2.2832 --> 1.4891\n",
      "1.3181 1.6199 2.2812\n",
      "2.2812 --> 1.3532\n",
      "1.3181 1.5684 2.1565\n",
      "2.1565 --> 1.1323\n",
      "1.1323 1.5115 2.0765\n",
      "2.0765 --> 1.4673\n",
      "1.1323 1.4776 1.8266\n",
      "1.8266 --> 1.2115\n",
      "1.1323 1.4434 1.8153\n",
      "1.8153 --> 1.0949\n",
      "1.0949 1.4034 1.7523\n",
      "1.7523 --> 1.7523\n",
      "1.0949 1.4034 1.7523\n",
      "1.7523 --> 1.7523\n",
      "1.0949 1.4034 1.7523\n",
      "1.7523 --> 1.7523\n",
      "1.0949 1.4034 1.7523\n",
      "1.7523 --> 1.7523\n",
      "1.0949 1.4034 1.7523\n",
      "1.7523 --> 1.7523\n",
      "1.0949 1.4034 1.7523\n",
      "1.7523 --> 1.7523\n",
      "1.0949 1.4034 1.7523\n",
      "1.7523 --> 1.7523\n",
      "1.0949 1.4034 1.7523\n",
      "1.7523 --> 1.7523\n",
      "1.0949 1.4034 1.7523\n",
      "1.7523 --> 1.7523\n",
      "1.0949 1.4034 1.7523\n",
      "1.7523 --> 1.7523\n",
      "1.0949 1.4034 1.7523\n",
      "1.7523 --> 1.7523\n",
      "1.0949 1.4034 1.7523\n",
      "1.7523 --> 1.7523\n",
      "1.0949 1.4034 1.7523\n",
      "0.7\n"
     ]
    },
    {
     "data": {
      "text/plain": [
       "(array([0., 0., 0., 0., 0., 2., 9., 4., 3., 0., 0., 0., 0., 0., 0., 0., 0.,\n",
       "        0., 0.]),\n",
       " array([0. , 0.2, 0.4, 0.6, 0.8, 1. , 1.2, 1.4, 1.6, 1.8, 2. , 2.2, 2.4,\n",
       "        2.6, 2.8, 3. , 3.2, 3.4, 3.6, 3.8]),\n",
       " <a list of 19 Patch objects>)"
      ]
     },
     "execution_count": 9,
     "metadata": {},
     "output_type": "execute_result"
    },
    {
     "data": {
      "image/png": "[encoded data removed]",
      "text/plain": [
       "<Figure size 432x288 with 1 Axes>"
      ]
     },
     "metadata": {},
     "output_type": "display_data"
    }
   ],
   "source": [
    "results, _, _, accuracy = compute_bounds(Xtrain,Ytrain,Xtest,Ytest,1,4, 1.0, 0.5, 0.0001,2,50,2,(7, 30))\n",
    "print(accuracy)\n",
    "plt.hist([np.max(res[0]) for res in results],bins=np.arange(0,4,0.2))"
   ]
  },
  {
   "cell_type": "code",
   "execution_count": null,
   "metadata": {},
   "outputs": [],
   "source": []
  }
 ],
 "metadata": {
  "kernelspec": {
   "display_name": "Python 3",
   "language": "python",
   "name": "python3"
  },
  "language_info": {
   "codemirror_mode": {
    "name": "ipython",
    "version": 3
   },
   "file_extension": ".py",
   "mimetype": "text/x-python",
   "name": "python",
   "nbconvert_exporter": "python",
   "pygments_lexer": "ipython3",
   "version": "3.6.8"
  }
 },
 "nbformat": 4,
 "nbformat_minor": 2
}
