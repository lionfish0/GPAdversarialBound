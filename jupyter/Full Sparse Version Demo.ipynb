{
 "cells": [
  {
   "cell_type": "code",
   "execution_count": 7,
   "metadata": {},
   "outputs": [],
   "source": [
    "from boundmixofgaussians import findpeak, compute_sum, compute_grad\n",
    "import numpy as np\n",
    "np.set_printoptions(suppress=True,precision=6)\n",
    "import matplotlib.pyplot as plt\n",
    "%matplotlib inline\n",
    "from GPAdversarialBound import getallchanges, zeromean_gaussian, getbound, AdversBound, compute_bounds\n",
    "from GPAdversarialBound.logistic import get_logistic_result\n",
    "from GPAdversarialDatasets import getMNISTexample, getbankexample, getcreditexample, getspamexample,getsynthexample\n",
    "\n",
    "# from GPAdversarialBound.test import testing\n",
    "# testing()"
   ]
  },
  {
   "cell_type": "markdown",
   "metadata": {},
   "source": [
    "## MNIST Demo"
   ]
  },
  {
   "cell_type": "code",
   "execution_count": 5,
   "metadata": {},
   "outputs": [
    {
     "name": "stdout",
     "output_type": "stream",
     "text": [
      "Comparing 3 vs 5\n"
     ]
    }
   ],
   "source": [
    "trainingN = 100\n",
    "testN = 200\n",
    "fullX,Y = getMNISTexample(scalingfactor=4,Ntraining=trainingN+testN,splittype='35') #4\n",
    "keep = np.max(fullX,0)>50 #150\n",
    "X = fullX[:,keep]\n",
    "X=X-np.min(X,0)\n",
    "X=X/np.max(X,0)\n",
    "X = X*1.0\n",
    "Y = Y*1.0\n",
    "Y[Y==0]=-1\n",
    "Xtest = X[trainingN:,:]\n",
    "Ytest = Y[trainingN:,:]\n",
    "Xtrain = X[0:trainingN,:]\n",
    "Ytrain = Y[0:trainingN,:]"
   ]
  },
  {
   "cell_type": "markdown",
   "metadata": {},
   "source": [
    "Comparing sparse approximation with basic result"
   ]
  },
  {
   "cell_type": "code",
   "execution_count": 6,
   "metadata": {},
   "outputs": [
    {
     "name": "stderr",
     "output_type": "stream",
     "text": [
      "reconstraining parameters gp_classification.rbf.variance\n",
      "reconstraining parameters sparse_gp.rbf.variance\n",
      "reconstraining parameters gp_classification.rbf.variance\n"
     ]
    },
    {
     "name": "stdout",
     "output_type": "stream",
     "text": [
      "0.625\n",
      "[2.274482]\n",
      "0.6\n",
      "[1.428104]\n"
     ]
    },
    {
     "data": {
      "text/plain": [
       "(array([0., 0., 0., 0., 0., 0., 0., 0., 0., 0., 0., 0., 0., 0., 0., 1., 4.,\n",
       "        2., 5.]),\n",
       " array([0. , 0.2, 0.4, 0.6, 0.8, 1. , 1.2, 1.4, 1.6, 1.8, 2. , 2.2, 2.4,\n",
       "        2.6, 2.8, 3. , 3.2, 3.4, 3.6, 3.8]),\n",
       " <a list of 1 Patch objects>)"
      ]
     },
     "execution_count": 6,
     "metadata": {},
     "output_type": "execute_result"
    },
    {
     "data": {
      "image/png": "[encoded data removed]",
      "text/plain": [
       "<Figure size 432x288 with 1 Axes>"
      ]
     },
     "metadata": {},
     "output_type": "display_data"
    }
   ],
   "source": [
    "results, _, _, accuracy, abCI = compute_bounds(Xtrain,Ytrain,Xtest,Ytest,1, 4, 1.0, 0.5, 0.0001,2)\n",
    "print(accuracy)\n",
    "print(np.diff(abCI))\n",
    "plt.hist([np.max(res[0]) for res in results],bins=np.arange(0,4,0.2),alpha=0.3)\n",
    "\n",
    "results, _, _, accuracy, abCI = compute_bounds(Xtrain,Ytrain,Xtest,Ytest,1,False, 1.0, 0.5, 0.0001,2)\n",
    "print(accuracy)\n",
    "print(np.diff(abCI))\n",
    "plt.hist([np.max(res[0]) for res in results],bins=np.arange(0,4,0.2),alpha=0.3,histtype='stepfilled')"
   ]
  },
  {
   "cell_type": "markdown",
   "metadata": {},
   "source": [
    "The distance between the 5th and 95th percentile training points is reported above in [brackets]. Both computations seem to end up above these thresholds."
   ]
  },
  {
   "cell_type": "markdown",
   "metadata": {},
   "source": [
    "There is an additional process in which the largest results are recomputed with a tighter bound:"
   ]
  },
  {
   "cell_type": "code",
   "execution_count": 13,
   "metadata": {
    "scrolled": true
   },
   "outputs": [
    {
     "name": "stderr",
     "output_type": "stream",
     "text": [
      "reconstraining parameters gp_classification.rbf.variance\n",
      "reconstraining parameters sparse_gp.rbf.variance\n"
     ]
    },
    {
     "name": "stdout",
     "output_type": "stream",
     "text": [
      "2.6079 --> 1.3344\n",
      "1.3344 2.2882 2.5983\n",
      "2.5983 --> 1.3700\n",
      "1.3344 2.2200 2.5932\n",
      "2.5932 --> 1.3555\n",
      "1.3344 2.1512 2.5909\n",
      "2.5909 --> 1.3451\n",
      "1.3344 2.0820 2.5612\n",
      "2.5612 --> 1.4119\n",
      "1.3344 2.0181 2.5571\n",
      "2.5571 --> 1.5164\n",
      "1.3344 1.9603 2.5452\n",
      "2.5452 --> 1.3643\n",
      "1.3344 1.8947 2.4514\n",
      "2.4514 --> 1.7524\n",
      "1.3344 1.8559 2.4413\n",
      "2.4413 --> 1.3664\n",
      "1.3344 1.7962 2.3977\n",
      "2.3977 --> 1.7143\n",
      "1.3344 1.7582 2.3606\n",
      "0.7\n"
     ]
    },
    {
     "data": {
      "text/plain": [
       "(array([0., 0., 0., 0., 0., 0., 6., 2., 2., 2., 2., 4., 0., 0., 0., 0., 0.,\n",
       "        0., 0.]),\n",
       " array([0. , 0.2, 0.4, 0.6, 0.8, 1. , 1.2, 1.4, 1.6, 1.8, 2. , 2.2, 2.4,\n",
       "        2.6, 2.8, 3. , 3.2, 3.4, 3.6, 3.8]),\n",
       " <a list of 19 Patch objects>)"
      ]
     },
     "execution_count": 13,
     "metadata": {},
     "output_type": "execute_result"
    },
    {
     "data": {
      "image/png": "[encoded data removed]",
      "text/plain": [
       "<Figure size 432x288 with 1 Axes>"
      ]
     },
     "metadata": {},
     "output_type": "display_data"
    }
   ],
   "source": [
    "results, _, _, accuracy, abCI = compute_bounds(Xtrain,Ytrain,Xtest,Ytest,1,4, 1.0, 0.5, 0.0001,2,50,2,(7, 10))\n",
    "print(accuracy)\n",
    "plt.hist([np.max(res[0]) for res in results],bins=np.arange(0,4,0.2))"
   ]
  },
  {
   "cell_type": "code",
   "execution_count": 15,
   "metadata": {},
   "outputs": [
    {
     "name": "stdout",
     "output_type": "stream",
     "text": [
      "[2.730865]\n"
     ]
    }
   ],
   "source": [
    "print(np.diff(abCI))"
   ]
  },
  {
   "cell_type": "markdown",
   "metadata": {},
   "source": [
    "In the above example all the possible paths considered are now below this threshold, so we know at least two pixels need changing."
   ]
  },
  {
   "cell_type": "markdown",
   "metadata": {},
   "source": [
    "We can compare with logistic regression:"
   ]
  },
  {
   "cell_type": "code",
   "execution_count": 14,
   "metadata": {},
   "outputs": [
    {
     "name": "stdout",
     "output_type": "stream",
     "text": [
      "C, Score, cumulativelatents[0], cumulativelatents[1], cumulativelatents[2], cumulativelatents[3], cumulativelatents[4], ci, pixelsneeded\n",
      "0.01, 50.00, 0.03, 0.06, 0.08, 0.11, 0.13, 0.10, 3\n",
      "0.01, 50.00, 0.04, 0.07, 0.10, 0.13, 0.15, 0.11, 3\n",
      "0.01, 50.00, 0.05, 0.08, 0.12, 0.16, 0.18, 0.14, 3\n",
      "0.01, 53.00, 0.06, 0.10, 0.15, 0.19, 0.22, 0.16, 3\n",
      "0.01, 57.00, 0.07, 0.12, 0.18, 0.23, 0.27, 0.20, 3\n",
      "0.02, 60.00, 0.08, 0.15, 0.21, 0.27, 0.32, 0.23, 3\n",
      "0.02, 64.00, 0.10, 0.18, 0.25, 0.33, 0.38, 0.27, 3\n",
      "0.03, 62.00, 0.11, 0.21, 0.30, 0.39, 0.45, 0.32, 3\n",
      "0.03, 63.50, 0.13, 0.25, 0.36, 0.46, 0.54, 0.38, 3\n",
      "0.04, 67.00, 0.16, 0.29, 0.42, 0.55, 0.64, 0.44, 3\n",
      "0.05, 68.50, 0.18, 0.35, 0.50, 0.65, 0.75, 0.51, 3\n",
      "0.06, 68.00, 0.21, 0.40, 0.59, 0.76, 0.88, 0.58, 2\n",
      "0.07, 67.50, 0.25, 0.47, 0.68, 0.88, 1.03, 0.67, 2\n",
      "0.09, 68.50, 0.28, 0.55, 0.79, 1.03, 1.20, 0.76, 2\n",
      "0.11, 69.00, 0.32, 0.63, 0.92, 1.18, 1.38, 0.86, 2\n",
      "0.14, 69.00, 0.37, 0.72, 1.05, 1.36, 1.58, 0.96, 2\n",
      "0.17, 69.50, 0.42, 0.82, 1.20, 1.55, 1.81, 1.07, 2\n",
      "0.20, 69.50, 0.47, 0.94, 1.37, 1.76, 2.05, 1.19, 2\n",
      "0.25, 69.00, 0.53, 1.06, 1.55, 1.99, 2.34, 1.31, 2\n",
      "0.30, 69.00, 0.60, 1.19, 1.75, 2.24, 2.65, 1.44, 2\n",
      "0.37, 68.00, 0.67, 1.34, 1.96, 2.51, 2.98, 1.58, 2\n",
      "0.45, 68.50, 0.76, 1.49, 2.19, 2.79, 3.35, 1.74, 2\n",
      "0.55, 68.00, 0.85, 1.66, 2.44, 3.10, 3.74, 1.89, 2\n",
      "0.67, 68.50, 0.94, 1.84, 2.70, 3.44, 4.17, 2.04, 2\n",
      "0.82, 69.50, 1.05, 2.04, 2.98, 3.83, 4.63, 2.21, 2\n",
      "1.00, 69.00, 1.18, 2.25, 3.28, 4.26, 5.12, 2.41, 2\n",
      "1.22, 70.50, 1.31, 2.47, 3.61, 4.72, 5.64, 2.63, 2\n",
      "1.49, 71.00, 1.46, 2.71, 3.97, 5.21, 6.20, 2.86, 2\n",
      "1.82, 71.00, 1.62, 3.03, 4.39, 5.74, 6.80, 3.09, 2\n",
      "2.23, 72.00, 1.79, 3.38, 4.85, 6.31, 7.44, 3.34, 1\n",
      "2.72, 72.00, 1.98, 3.76, 5.34, 6.91, 8.16, 3.58, 1\n",
      "3.32, 72.00, 2.19, 4.17, 5.87, 7.56, 8.94, 3.84, 1\n",
      "4.06, 72.00, 2.41, 4.61, 6.44, 8.25, 9.78, 4.11, 1\n",
      "4.95, 72.00, 2.65, 5.08, 7.05, 8.99, 10.68, 4.40, 1\n",
      "6.05, 72.00, 2.92, 5.59, 7.70, 9.78, 11.65, 4.70, 1\n",
      "7.39, 72.00, 3.20, 6.13, 8.39, 10.63, 12.68, 5.01, 1\n",
      "9.03, 72.50, 3.51, 6.71, 9.13, 11.52, 13.79, 5.32, 1\n",
      "11.02, 72.50, 3.84, 7.34, 9.91, 12.48, 14.98, 5.70, 1\n",
      "13.46, 71.00, 4.21, 8.00, 10.75, 13.50, 16.25, 6.14, 1\n",
      "16.44, 69.50, 4.60, 8.72, 11.74, 14.68, 17.61, 6.57, 1\n",
      "20.09, 69.50, 5.02, 9.48, 12.81, 15.95, 19.07, 7.03, 1\n",
      "24.53, 69.00, 5.49, 10.30, 13.95, 17.31, 20.63, 7.52, 1\n",
      "29.96, 68.00, 5.98, 11.17, 15.18, 18.77, 22.29, 8.04, 1\n",
      "36.60, 68.00, 6.52, 12.10, 16.50, 20.34, 24.08, 8.60, 1\n",
      "44.70, 68.00, 7.10, 13.10, 17.92, 22.01, 25.99, 9.02, 1\n",
      "54.60, 68.00, 7.73, 14.16, 19.43, 23.79, 28.01, 9.40, 1\n",
      "66.69, 67.00, 8.39, 15.28, 21.03, 25.68, 30.16, 10.06, 1\n",
      "81.45, 67.50, 9.09, 16.47, 22.72, 27.67, 32.57, 10.75, 1\n",
      "99.48, 65.50, 9.83, 17.71, 24.49, 29.97, 35.23, 11.48, 1\n",
      "121.51, 64.50, 10.61, 19.01, 26.34, 32.42, 38.01, 12.18, 1\n"
     ]
    }
   ],
   "source": [
    "logres = get_logistic_result(Xtrain,Ytrain,Xtest,Ytest)\n",
    "print(\"C, Score, cumulativelatents[0], cumulativelatents[1], cumulativelatents[2], cumulativelatents[3], cumulativelatents[4], ci, pixelsneeded\")\n",
    "for r in logres:\n",
    "    print(\"%0.2f, %0.2f, %0.2f, %0.2f, %0.2f, %0.2f, %0.2f, %0.2f, %d\" % tuple(r))"
   ]
  }
 ],
 "metadata": {
  "kernelspec": {
   "display_name": "Python 3",
   "language": "python",
   "name": "python3"
  },
  "language_info": {
   "codemirror_mode": {
    "name": "ipython",
    "version": 3
   },
   "file_extension": ".py",
   "mimetype": "text/x-python",
   "name": "python",
   "nbconvert_exporter": "python",
   "pygments_lexer": "ipython3",
   "version": "3.6.8"
  }
 },
 "nbformat": 4,
 "nbformat_minor": 2
}
