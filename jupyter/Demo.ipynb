{
 "cells": [
  {
   "cell_type": "markdown",
   "metadata": {},
   "source": [
    "### Installing stuff and importing libraries.\n",
    "\n",
    "This notebook uses my `dask_dp4gp` module for the `install_libraries_on_workers` utility function and uses my `hypercuboid_integrator`. It also uses `dask`, etc to distribute the computation. So to install:\n",
    "\n",
    "        git clone https://github.com/lionfish0/GPAdversarialBound.git\n",
    "        cd GPAdversarialBound\n",
    "        pip install -e .\n",
    "        pip install git+https://github.com/lionfish0/hypercuboid_integrator.git\n",
    "        pip install dask\n",
    "        pip install git+https://github.com/lionfish0/dask_dp4gp.git\n",
    "\n",
    "You'll probably want to skip the distributed aspect however. To do that simply remove the `ip=ip` parameter from the call to `getshiftbounds`. All the distribution does is compute each pixel on a separate server."
   ]
  },
  {
   "cell_type": "code",
   "execution_count": 1,
   "metadata": {},
   "outputs": [],
   "source": [
    "from GPAdversarialBound import getshiftbounds, getpred, plot2dB\n",
    "import numpy as np\n",
    "import matplotlib.pyplot as plt\n",
    "%matplotlib inline\n",
    "ip = None #'54.194.231.31'"
   ]
  },
  {
   "cell_type": "code",
   "execution_count": 3,
   "metadata": {},
   "outputs": [
    {
     "name": "stderr",
     "output_type": "stream",
     "text": [
      "distributed.utils - ERROR - Timed out trying to connect to 'tcp://34.242.232.253:8786' after 5 s: connect() didn't finish in time\n",
      "Traceback (most recent call last):\n",
      "  File \"/home/mike/anaconda3/lib/python3.6/site-packages/distributed/comm/core.py\", line 185, in connect\n",
      "    quiet_exceptions=EnvironmentError)\n",
      "  File \"/home/mike/anaconda3/lib/python3.6/site-packages/tornado/gen.py\", line 1055, in run\n",
      "    value = future.result()\n",
      "  File \"/home/mike/anaconda3/lib/python3.6/site-packages/tornado/concurrent.py\", line 238, in result\n",
      "    raise_exc_info(self._exc_info)\n",
      "  File \"<string>\", line 4, in raise_exc_info\n",
      "tornado.gen.TimeoutError: Timeout\n",
      "\n",
      "During handling of the above exception, another exception occurred:\n",
      "\n",
      "Traceback (most recent call last):\n",
      "  File \"/home/mike/anaconda3/lib/python3.6/site-packages/distributed/utils.py\", line 238, in f\n",
      "    result[0] = yield make_coro()\n",
      "  File \"/home/mike/anaconda3/lib/python3.6/site-packages/tornado/gen.py\", line 1055, in run\n",
      "    value = future.result()\n",
      "  File \"/home/mike/anaconda3/lib/python3.6/site-packages/tornado/concurrent.py\", line 238, in result\n",
      "    raise_exc_info(self._exc_info)\n",
      "  File \"<string>\", line 4, in raise_exc_info\n",
      "  File \"/home/mike/anaconda3/lib/python3.6/site-packages/tornado/gen.py\", line 1063, in run\n",
      "    yielded = self.gen.throw(*exc_info)\n",
      "  File \"/home/mike/anaconda3/lib/python3.6/site-packages/distributed/client.py\", line 741, in _start\n",
      "    yield self._ensure_connected(timeout=timeout)\n",
      "  File \"/home/mike/anaconda3/lib/python3.6/site-packages/tornado/gen.py\", line 1055, in run\n",
      "    value = future.result()\n",
      "  File \"/home/mike/anaconda3/lib/python3.6/site-packages/tornado/concurrent.py\", line 238, in result\n",
      "    raise_exc_info(self._exc_info)\n",
      "  File \"<string>\", line 4, in raise_exc_info\n",
      "  File \"/home/mike/anaconda3/lib/python3.6/site-packages/tornado/gen.py\", line 1063, in run\n",
      "    yielded = self.gen.throw(*exc_info)\n",
      "  File \"/home/mike/anaconda3/lib/python3.6/site-packages/distributed/client.py\", line 778, in _ensure_connected\n",
      "    connection_args=self.connection_args)\n",
      "  File \"/home/mike/anaconda3/lib/python3.6/site-packages/tornado/gen.py\", line 1055, in run\n",
      "    value = future.result()\n",
      "  File \"/home/mike/anaconda3/lib/python3.6/site-packages/tornado/concurrent.py\", line 238, in result\n",
      "    raise_exc_info(self._exc_info)\n",
      "  File \"<string>\", line 4, in raise_exc_info\n",
      "  File \"/home/mike/anaconda3/lib/python3.6/site-packages/tornado/gen.py\", line 1063, in run\n",
      "    yielded = self.gen.throw(*exc_info)\n",
      "  File \"/home/mike/anaconda3/lib/python3.6/site-packages/distributed/comm/core.py\", line 194, in connect\n",
      "    _raise(error)\n",
      "  File \"/home/mike/anaconda3/lib/python3.6/site-packages/distributed/comm/core.py\", line 177, in _raise\n",
      "    raise IOError(msg)\n",
      "OSError: Timed out trying to connect to 'tcp://34.242.232.253:8786' after 5 s: connect() didn't finish in time\n"
     ]
    },
    {
     "ename": "OSError",
     "evalue": "Timed out trying to connect to 'tcp://34.242.232.253:8786' after 5 s: connect() didn't finish in time",
     "output_type": "error",
     "traceback": [
      "\u001b[0;31m---------------------------------------------------------------------------\u001b[0m",
      "\u001b[0;31mTimeoutError\u001b[0m                              Traceback (most recent call last)",
      "\u001b[0;32m~/anaconda3/lib/python3.6/site-packages/distributed/comm/core.py\u001b[0m in \u001b[0;36mconnect\u001b[0;34m(addr, timeout, deserialize, connection_args)\u001b[0m\n\u001b[1;32m    184\u001b[0m                                           \u001b[0mfuture\u001b[0m\u001b[0;34m,\u001b[0m\u001b[0;34m\u001b[0m\u001b[0m\n\u001b[0;32m--> 185\u001b[0;31m                                           quiet_exceptions=EnvironmentError)\n\u001b[0m\u001b[1;32m    186\u001b[0m         \u001b[0;32mexcept\u001b[0m \u001b[0mEnvironmentError\u001b[0m \u001b[0;32mas\u001b[0m \u001b[0me\u001b[0m\u001b[0;34m:\u001b[0m\u001b[0;34m\u001b[0m\u001b[0m\n",
      "\u001b[0;32m~/anaconda3/lib/python3.6/site-packages/tornado/gen.py\u001b[0m in \u001b[0;36mrun\u001b[0;34m(self)\u001b[0m\n\u001b[1;32m   1054\u001b[0m                     \u001b[0;32mtry\u001b[0m\u001b[0;34m:\u001b[0m\u001b[0;34m\u001b[0m\u001b[0m\n\u001b[0;32m-> 1055\u001b[0;31m                         \u001b[0mvalue\u001b[0m \u001b[0;34m=\u001b[0m \u001b[0mfuture\u001b[0m\u001b[0;34m.\u001b[0m\u001b[0mresult\u001b[0m\u001b[0;34m(\u001b[0m\u001b[0;34m)\u001b[0m\u001b[0;34m\u001b[0m\u001b[0m\n\u001b[0m\u001b[1;32m   1056\u001b[0m                     \u001b[0;32mexcept\u001b[0m \u001b[0mException\u001b[0m\u001b[0;34m:\u001b[0m\u001b[0;34m\u001b[0m\u001b[0m\n",
      "\u001b[0;32m~/anaconda3/lib/python3.6/site-packages/tornado/concurrent.py\u001b[0m in \u001b[0;36mresult\u001b[0;34m(self, timeout)\u001b[0m\n\u001b[1;32m    237\u001b[0m             \u001b[0;32mtry\u001b[0m\u001b[0;34m:\u001b[0m\u001b[0;34m\u001b[0m\u001b[0m\n\u001b[0;32m--> 238\u001b[0;31m                 \u001b[0mraise_exc_info\u001b[0m\u001b[0;34m(\u001b[0m\u001b[0mself\u001b[0m\u001b[0;34m.\u001b[0m\u001b[0m_exc_info\u001b[0m\u001b[0;34m)\u001b[0m\u001b[0;34m\u001b[0m\u001b[0m\n\u001b[0m\u001b[1;32m    239\u001b[0m             \u001b[0;32mfinally\u001b[0m\u001b[0;34m:\u001b[0m\u001b[0;34m\u001b[0m\u001b[0m\n",
      "\u001b[0;32m~/anaconda3/lib/python3.6/site-packages/tornado/util.py\u001b[0m in \u001b[0;36mraise_exc_info\u001b[0;34m(exc_info)\u001b[0m\n",
      "\u001b[0;31mTimeoutError\u001b[0m: Timeout",
      "\nDuring handling of the above exception, another exception occurred:\n",
      "\u001b[0;31mOSError\u001b[0m                                   Traceback (most recent call last)",
      "\u001b[0;32m<ipython-input-3-9ead159f43ed>\u001b[0m in \u001b[0;36m<module>\u001b[0;34m()\u001b[0m\n\u001b[1;32m      2\u001b[0m \u001b[0;32mfrom\u001b[0m \u001b[0mdask_dp4gp\u001b[0m \u001b[0;32mimport\u001b[0m \u001b[0minstall_libraries_on_workers\u001b[0m \u001b[0;32mas\u001b[0m \u001b[0milow\u001b[0m\u001b[0;34m\u001b[0m\u001b[0m\n\u001b[1;32m      3\u001b[0m \u001b[0mjoblist\u001b[0m \u001b[0;34m=\u001b[0m \u001b[0;34m[\u001b[0m\u001b[0;34m'pip install -U pip'\u001b[0m\u001b[0;34m,\u001b[0m\u001b[0;34m'sudo apt install libgl1-mesa-glx -y'\u001b[0m\u001b[0;34m,\u001b[0m\u001b[0;34m'conda update scipy -y'\u001b[0m\u001b[0;34m,\u001b[0m\u001b[0;34m'pip install git+https://github.com/sods/paramz.git'\u001b[0m\u001b[0;34m,\u001b[0m\u001b[0;34m'pip install git+https://github.com/SheffieldML/GPy.git'\u001b[0m\u001b[0;34m,\u001b[0m\u001b[0;34m'pip install git+https://github.com/lionfish0/dp4gp.git'\u001b[0m\u001b[0;34m,\u001b[0m\u001b[0;34m'conda install dask-searchcv -c conda-forge -y'\u001b[0m\u001b[0;34m,\u001b[0m \u001b[0;34m'pip install git+https://github.com/lionfish0/dask_dp4gp.git'\u001b[0m\u001b[0;34m,\u001b[0m \u001b[0;34m'pip install numpy'\u001b[0m\u001b[0;34m,\u001b[0m \u001b[0;34m'conda remove argcomplete -y'\u001b[0m\u001b[0;34m,\u001b[0m \u001b[0;34m'pip install -U pip'\u001b[0m\u001b[0;34m,\u001b[0m \u001b[0;34m'pip install numpy'\u001b[0m\u001b[0;34m,\u001b[0m \u001b[0;34m'conda remove argcomplete -y'\u001b[0m\u001b[0;34m,\u001b[0m \u001b[0;34m'pip install git+https://github.com/lionfish0/hypercuboid_integrator.git'\u001b[0m\u001b[0;34m,\u001b[0m\u001b[0;34m'pip install git+https://github.com/lionfish0/GPAdversarialBound.git'\u001b[0m\u001b[0;34m]\u001b[0m\u001b[0;34m\u001b[0m\u001b[0m\n\u001b[0;32m----> 4\u001b[0;31m \u001b[0milow\u001b[0m\u001b[0;34m(\u001b[0m\u001b[0mip\u001b[0m\u001b[0;34m+\u001b[0m\u001b[0;34m':8786'\u001b[0m\u001b[0;34m,\u001b[0m\u001b[0mjoblist\u001b[0m\u001b[0;34m)\u001b[0m\u001b[0;34m\u001b[0m\u001b[0m\n\u001b[0m",
      "\u001b[0;32m~/Documents/Research/dask_dp4gp/dask_dp4gp/__init__.py\u001b[0m in \u001b[0;36minstall_libraries_on_workers\u001b[0;34m(url, runlist)\u001b[0m\n\u001b[1;32m     30\u001b[0m     \"\"\"\n\u001b[1;32m     31\u001b[0m     \u001b[0;32mfrom\u001b[0m \u001b[0mdask\u001b[0m\u001b[0;34m.\u001b[0m\u001b[0mdistributed\u001b[0m \u001b[0;32mimport\u001b[0m \u001b[0mClient\u001b[0m\u001b[0;34m\u001b[0m\u001b[0m\n\u001b[0;32m---> 32\u001b[0;31m     \u001b[0mclient\u001b[0m \u001b[0;34m=\u001b[0m \u001b[0mClient\u001b[0m\u001b[0;34m(\u001b[0m\u001b[0murl\u001b[0m\u001b[0;34m)\u001b[0m\u001b[0;34m\u001b[0m\u001b[0m\n\u001b[0m\u001b[1;32m     33\u001b[0m \u001b[0;34m\u001b[0m\u001b[0m\n\u001b[1;32m     34\u001b[0m     \u001b[0;32mif\u001b[0m \u001b[0mrunlist\u001b[0m \u001b[0;32mis\u001b[0m \u001b[0;32mNone\u001b[0m\u001b[0;34m:\u001b[0m\u001b[0;34m\u001b[0m\u001b[0m\n",
      "\u001b[0;32m~/anaconda3/lib/python3.6/site-packages/distributed/client.py\u001b[0m in \u001b[0;36m__init__\u001b[0;34m(self, address, loop, timeout, set_as_default, scheduler_file, security, asynchronous, name, **kwargs)\u001b[0m\n\u001b[1;32m    553\u001b[0m                                      io_loop=self.loop)\n\u001b[1;32m    554\u001b[0m \u001b[0;34m\u001b[0m\u001b[0m\n\u001b[0;32m--> 555\u001b[0;31m         \u001b[0mself\u001b[0m\u001b[0;34m.\u001b[0m\u001b[0mstart\u001b[0m\u001b[0;34m(\u001b[0m\u001b[0mtimeout\u001b[0m\u001b[0;34m=\u001b[0m\u001b[0mtimeout\u001b[0m\u001b[0;34m)\u001b[0m\u001b[0;34m\u001b[0m\u001b[0m\n\u001b[0m\u001b[1;32m    556\u001b[0m \u001b[0;34m\u001b[0m\u001b[0m\n\u001b[1;32m    557\u001b[0m         \u001b[0;32mfrom\u001b[0m \u001b[0mdistributed\u001b[0m\u001b[0;34m.\u001b[0m\u001b[0mrecreate_exceptions\u001b[0m \u001b[0;32mimport\u001b[0m \u001b[0mReplayExceptionClient\u001b[0m\u001b[0;34m\u001b[0m\u001b[0m\n",
      "\u001b[0;32m~/anaconda3/lib/python3.6/site-packages/distributed/client.py\u001b[0m in \u001b[0;36mstart\u001b[0;34m(self, **kwargs)\u001b[0m\n\u001b[1;32m    668\u001b[0m             \u001b[0mself\u001b[0m\u001b[0;34m.\u001b[0m\u001b[0m_started\u001b[0m \u001b[0;34m=\u001b[0m \u001b[0mself\u001b[0m\u001b[0;34m.\u001b[0m\u001b[0m_start\u001b[0m\u001b[0;34m(\u001b[0m\u001b[0;34m**\u001b[0m\u001b[0mkwargs\u001b[0m\u001b[0;34m)\u001b[0m\u001b[0;34m\u001b[0m\u001b[0m\n\u001b[1;32m    669\u001b[0m         \u001b[0;32melse\u001b[0m\u001b[0;34m:\u001b[0m\u001b[0;34m\u001b[0m\u001b[0m\n\u001b[0;32m--> 670\u001b[0;31m             \u001b[0msync\u001b[0m\u001b[0;34m(\u001b[0m\u001b[0mself\u001b[0m\u001b[0;34m.\u001b[0m\u001b[0mloop\u001b[0m\u001b[0;34m,\u001b[0m \u001b[0mself\u001b[0m\u001b[0;34m.\u001b[0m\u001b[0m_start\u001b[0m\u001b[0;34m,\u001b[0m \u001b[0;34m**\u001b[0m\u001b[0mkwargs\u001b[0m\u001b[0;34m)\u001b[0m\u001b[0;34m\u001b[0m\u001b[0m\n\u001b[0m\u001b[1;32m    671\u001b[0m \u001b[0;34m\u001b[0m\u001b[0m\n\u001b[1;32m    672\u001b[0m     \u001b[0;32mdef\u001b[0m \u001b[0m__await__\u001b[0m\u001b[0;34m(\u001b[0m\u001b[0mself\u001b[0m\u001b[0;34m)\u001b[0m\u001b[0;34m:\u001b[0m\u001b[0;34m\u001b[0m\u001b[0m\n",
      "\u001b[0;32m~/anaconda3/lib/python3.6/site-packages/distributed/utils.py\u001b[0m in \u001b[0;36msync\u001b[0;34m(loop, func, *args, **kwargs)\u001b[0m\n\u001b[1;32m    252\u001b[0m             \u001b[0me\u001b[0m\u001b[0;34m.\u001b[0m\u001b[0mwait\u001b[0m\u001b[0;34m(\u001b[0m\u001b[0;36m1000000\u001b[0m\u001b[0;34m)\u001b[0m\u001b[0;34m\u001b[0m\u001b[0m\n\u001b[1;32m    253\u001b[0m     \u001b[0;32mif\u001b[0m \u001b[0merror\u001b[0m\u001b[0;34m[\u001b[0m\u001b[0;36m0\u001b[0m\u001b[0;34m]\u001b[0m\u001b[0;34m:\u001b[0m\u001b[0;34m\u001b[0m\u001b[0m\n\u001b[0;32m--> 254\u001b[0;31m         \u001b[0msix\u001b[0m\u001b[0;34m.\u001b[0m\u001b[0mreraise\u001b[0m\u001b[0;34m(\u001b[0m\u001b[0;34m*\u001b[0m\u001b[0merror\u001b[0m\u001b[0;34m[\u001b[0m\u001b[0;36m0\u001b[0m\u001b[0;34m]\u001b[0m\u001b[0;34m)\u001b[0m\u001b[0;34m\u001b[0m\u001b[0m\n\u001b[0m\u001b[1;32m    255\u001b[0m     \u001b[0;32melse\u001b[0m\u001b[0;34m:\u001b[0m\u001b[0;34m\u001b[0m\u001b[0m\n\u001b[1;32m    256\u001b[0m         \u001b[0;32mreturn\u001b[0m \u001b[0mresult\u001b[0m\u001b[0;34m[\u001b[0m\u001b[0;36m0\u001b[0m\u001b[0;34m]\u001b[0m\u001b[0;34m\u001b[0m\u001b[0m\n",
      "\u001b[0;32m~/anaconda3/lib/python3.6/site-packages/six.py\u001b[0m in \u001b[0;36mreraise\u001b[0;34m(tp, value, tb)\u001b[0m\n\u001b[1;32m    691\u001b[0m             \u001b[0;32mif\u001b[0m \u001b[0mvalue\u001b[0m\u001b[0;34m.\u001b[0m\u001b[0m__traceback__\u001b[0m \u001b[0;32mis\u001b[0m \u001b[0;32mnot\u001b[0m \u001b[0mtb\u001b[0m\u001b[0;34m:\u001b[0m\u001b[0;34m\u001b[0m\u001b[0m\n\u001b[1;32m    692\u001b[0m                 \u001b[0;32mraise\u001b[0m \u001b[0mvalue\u001b[0m\u001b[0;34m.\u001b[0m\u001b[0mwith_traceback\u001b[0m\u001b[0;34m(\u001b[0m\u001b[0mtb\u001b[0m\u001b[0;34m)\u001b[0m\u001b[0;34m\u001b[0m\u001b[0m\n\u001b[0;32m--> 693\u001b[0;31m             \u001b[0;32mraise\u001b[0m \u001b[0mvalue\u001b[0m\u001b[0;34m\u001b[0m\u001b[0m\n\u001b[0m\u001b[1;32m    694\u001b[0m         \u001b[0;32mfinally\u001b[0m\u001b[0;34m:\u001b[0m\u001b[0;34m\u001b[0m\u001b[0m\n\u001b[1;32m    695\u001b[0m             \u001b[0mvalue\u001b[0m \u001b[0;34m=\u001b[0m \u001b[0;32mNone\u001b[0m\u001b[0;34m\u001b[0m\u001b[0m\n",
      "\u001b[0;32m~/anaconda3/lib/python3.6/site-packages/distributed/utils.py\u001b[0m in \u001b[0;36mf\u001b[0;34m()\u001b[0m\n\u001b[1;32m    236\u001b[0m             \u001b[0;32myield\u001b[0m \u001b[0mgen\u001b[0m\u001b[0;34m.\u001b[0m\u001b[0mmoment\u001b[0m\u001b[0;34m\u001b[0m\u001b[0m\n\u001b[1;32m    237\u001b[0m             \u001b[0mthread_state\u001b[0m\u001b[0;34m.\u001b[0m\u001b[0masynchronous\u001b[0m \u001b[0;34m=\u001b[0m \u001b[0;32mTrue\u001b[0m\u001b[0;34m\u001b[0m\u001b[0m\n\u001b[0;32m--> 238\u001b[0;31m             \u001b[0mresult\u001b[0m\u001b[0;34m[\u001b[0m\u001b[0;36m0\u001b[0m\u001b[0;34m]\u001b[0m \u001b[0;34m=\u001b[0m \u001b[0;32myield\u001b[0m \u001b[0mmake_coro\u001b[0m\u001b[0;34m(\u001b[0m\u001b[0;34m)\u001b[0m\u001b[0;34m\u001b[0m\u001b[0m\n\u001b[0m\u001b[1;32m    239\u001b[0m         \u001b[0;32mexcept\u001b[0m \u001b[0mException\u001b[0m \u001b[0;32mas\u001b[0m \u001b[0mexc\u001b[0m\u001b[0;34m:\u001b[0m\u001b[0;34m\u001b[0m\u001b[0m\n\u001b[1;32m    240\u001b[0m             \u001b[0mlogger\u001b[0m\u001b[0;34m.\u001b[0m\u001b[0mexception\u001b[0m\u001b[0;34m(\u001b[0m\u001b[0mexc\u001b[0m\u001b[0;34m)\u001b[0m\u001b[0;34m\u001b[0m\u001b[0m\n",
      "\u001b[0;32m~/anaconda3/lib/python3.6/site-packages/tornado/gen.py\u001b[0m in \u001b[0;36mrun\u001b[0;34m(self)\u001b[0m\n\u001b[1;32m   1053\u001b[0m \u001b[0;34m\u001b[0m\u001b[0m\n\u001b[1;32m   1054\u001b[0m                     \u001b[0;32mtry\u001b[0m\u001b[0;34m:\u001b[0m\u001b[0;34m\u001b[0m\u001b[0m\n\u001b[0;32m-> 1055\u001b[0;31m                         \u001b[0mvalue\u001b[0m \u001b[0;34m=\u001b[0m \u001b[0mfuture\u001b[0m\u001b[0;34m.\u001b[0m\u001b[0mresult\u001b[0m\u001b[0;34m(\u001b[0m\u001b[0;34m)\u001b[0m\u001b[0;34m\u001b[0m\u001b[0m\n\u001b[0m\u001b[1;32m   1056\u001b[0m                     \u001b[0;32mexcept\u001b[0m \u001b[0mException\u001b[0m\u001b[0;34m:\u001b[0m\u001b[0;34m\u001b[0m\u001b[0m\n\u001b[1;32m   1057\u001b[0m                         \u001b[0mself\u001b[0m\u001b[0;34m.\u001b[0m\u001b[0mhad_exception\u001b[0m \u001b[0;34m=\u001b[0m \u001b[0;32mTrue\u001b[0m\u001b[0;34m\u001b[0m\u001b[0m\n",
      "\u001b[0;32m~/anaconda3/lib/python3.6/site-packages/tornado/concurrent.py\u001b[0m in \u001b[0;36mresult\u001b[0;34m(self, timeout)\u001b[0m\n\u001b[1;32m    236\u001b[0m         \u001b[0;32mif\u001b[0m \u001b[0mself\u001b[0m\u001b[0;34m.\u001b[0m\u001b[0m_exc_info\u001b[0m \u001b[0;32mis\u001b[0m \u001b[0;32mnot\u001b[0m \u001b[0;32mNone\u001b[0m\u001b[0;34m:\u001b[0m\u001b[0;34m\u001b[0m\u001b[0m\n\u001b[1;32m    237\u001b[0m             \u001b[0;32mtry\u001b[0m\u001b[0;34m:\u001b[0m\u001b[0;34m\u001b[0m\u001b[0m\n\u001b[0;32m--> 238\u001b[0;31m                 \u001b[0mraise_exc_info\u001b[0m\u001b[0;34m(\u001b[0m\u001b[0mself\u001b[0m\u001b[0;34m.\u001b[0m\u001b[0m_exc_info\u001b[0m\u001b[0;34m)\u001b[0m\u001b[0;34m\u001b[0m\u001b[0m\n\u001b[0m\u001b[1;32m    239\u001b[0m             \u001b[0;32mfinally\u001b[0m\u001b[0;34m:\u001b[0m\u001b[0;34m\u001b[0m\u001b[0m\n\u001b[1;32m    240\u001b[0m                 \u001b[0mself\u001b[0m \u001b[0;34m=\u001b[0m \u001b[0;32mNone\u001b[0m\u001b[0;34m\u001b[0m\u001b[0m\n",
      "\u001b[0;32m~/anaconda3/lib/python3.6/site-packages/tornado/util.py\u001b[0m in \u001b[0;36mraise_exc_info\u001b[0;34m(exc_info)\u001b[0m\n",
      "\u001b[0;32m~/anaconda3/lib/python3.6/site-packages/tornado/gen.py\u001b[0m in \u001b[0;36mrun\u001b[0;34m(self)\u001b[0m\n\u001b[1;32m   1061\u001b[0m                     \u001b[0;32mif\u001b[0m \u001b[0mexc_info\u001b[0m \u001b[0;32mis\u001b[0m \u001b[0;32mnot\u001b[0m \u001b[0;32mNone\u001b[0m\u001b[0;34m:\u001b[0m\u001b[0;34m\u001b[0m\u001b[0m\n\u001b[1;32m   1062\u001b[0m                         \u001b[0;32mtry\u001b[0m\u001b[0;34m:\u001b[0m\u001b[0;34m\u001b[0m\u001b[0m\n\u001b[0;32m-> 1063\u001b[0;31m                             \u001b[0myielded\u001b[0m \u001b[0;34m=\u001b[0m \u001b[0mself\u001b[0m\u001b[0;34m.\u001b[0m\u001b[0mgen\u001b[0m\u001b[0;34m.\u001b[0m\u001b[0mthrow\u001b[0m\u001b[0;34m(\u001b[0m\u001b[0;34m*\u001b[0m\u001b[0mexc_info\u001b[0m\u001b[0;34m)\u001b[0m\u001b[0;34m\u001b[0m\u001b[0m\n\u001b[0m\u001b[1;32m   1064\u001b[0m                         \u001b[0;32mfinally\u001b[0m\u001b[0;34m:\u001b[0m\u001b[0;34m\u001b[0m\u001b[0m\n\u001b[1;32m   1065\u001b[0m                             \u001b[0;31m# Break up a reference to itself\u001b[0m\u001b[0;34m\u001b[0m\u001b[0;34m\u001b[0m\u001b[0m\n",
      "\u001b[0;32m~/anaconda3/lib/python3.6/site-packages/distributed/client.py\u001b[0m in \u001b[0;36m_start\u001b[0;34m(self, timeout, **kwargs)\u001b[0m\n\u001b[1;32m    739\u001b[0m         \u001b[0mself\u001b[0m\u001b[0;34m.\u001b[0m\u001b[0mscheduler_comm\u001b[0m \u001b[0;34m=\u001b[0m \u001b[0;32mNone\u001b[0m\u001b[0;34m\u001b[0m\u001b[0m\n\u001b[1;32m    740\u001b[0m \u001b[0;34m\u001b[0m\u001b[0m\n\u001b[0;32m--> 741\u001b[0;31m         \u001b[0;32myield\u001b[0m \u001b[0mself\u001b[0m\u001b[0;34m.\u001b[0m\u001b[0m_ensure_connected\u001b[0m\u001b[0;34m(\u001b[0m\u001b[0mtimeout\u001b[0m\u001b[0;34m=\u001b[0m\u001b[0mtimeout\u001b[0m\u001b[0;34m)\u001b[0m\u001b[0;34m\u001b[0m\u001b[0m\n\u001b[0m\u001b[1;32m    742\u001b[0m \u001b[0;34m\u001b[0m\u001b[0m\n\u001b[1;32m    743\u001b[0m         \u001b[0;32mfor\u001b[0m \u001b[0mpc\u001b[0m \u001b[0;32min\u001b[0m \u001b[0mself\u001b[0m\u001b[0;34m.\u001b[0m\u001b[0m_periodic_callbacks\u001b[0m\u001b[0;34m:\u001b[0m\u001b[0;34m\u001b[0m\u001b[0m\n",
      "\u001b[0;32m~/anaconda3/lib/python3.6/site-packages/tornado/gen.py\u001b[0m in \u001b[0;36mrun\u001b[0;34m(self)\u001b[0m\n\u001b[1;32m   1053\u001b[0m \u001b[0;34m\u001b[0m\u001b[0m\n\u001b[1;32m   1054\u001b[0m                     \u001b[0;32mtry\u001b[0m\u001b[0;34m:\u001b[0m\u001b[0;34m\u001b[0m\u001b[0m\n\u001b[0;32m-> 1055\u001b[0;31m                         \u001b[0mvalue\u001b[0m \u001b[0;34m=\u001b[0m \u001b[0mfuture\u001b[0m\u001b[0;34m.\u001b[0m\u001b[0mresult\u001b[0m\u001b[0;34m(\u001b[0m\u001b[0;34m)\u001b[0m\u001b[0;34m\u001b[0m\u001b[0m\n\u001b[0m\u001b[1;32m   1056\u001b[0m                     \u001b[0;32mexcept\u001b[0m \u001b[0mException\u001b[0m\u001b[0;34m:\u001b[0m\u001b[0;34m\u001b[0m\u001b[0m\n\u001b[1;32m   1057\u001b[0m                         \u001b[0mself\u001b[0m\u001b[0;34m.\u001b[0m\u001b[0mhad_exception\u001b[0m \u001b[0;34m=\u001b[0m \u001b[0;32mTrue\u001b[0m\u001b[0;34m\u001b[0m\u001b[0m\n",
      "\u001b[0;32m~/anaconda3/lib/python3.6/site-packages/tornado/concurrent.py\u001b[0m in \u001b[0;36mresult\u001b[0;34m(self, timeout)\u001b[0m\n\u001b[1;32m    236\u001b[0m         \u001b[0;32mif\u001b[0m \u001b[0mself\u001b[0m\u001b[0;34m.\u001b[0m\u001b[0m_exc_info\u001b[0m \u001b[0;32mis\u001b[0m \u001b[0;32mnot\u001b[0m \u001b[0;32mNone\u001b[0m\u001b[0;34m:\u001b[0m\u001b[0;34m\u001b[0m\u001b[0m\n\u001b[1;32m    237\u001b[0m             \u001b[0;32mtry\u001b[0m\u001b[0;34m:\u001b[0m\u001b[0;34m\u001b[0m\u001b[0m\n\u001b[0;32m--> 238\u001b[0;31m                 \u001b[0mraise_exc_info\u001b[0m\u001b[0;34m(\u001b[0m\u001b[0mself\u001b[0m\u001b[0;34m.\u001b[0m\u001b[0m_exc_info\u001b[0m\u001b[0;34m)\u001b[0m\u001b[0;34m\u001b[0m\u001b[0m\n\u001b[0m\u001b[1;32m    239\u001b[0m             \u001b[0;32mfinally\u001b[0m\u001b[0;34m:\u001b[0m\u001b[0;34m\u001b[0m\u001b[0m\n\u001b[1;32m    240\u001b[0m                 \u001b[0mself\u001b[0m \u001b[0;34m=\u001b[0m \u001b[0;32mNone\u001b[0m\u001b[0;34m\u001b[0m\u001b[0m\n",
      "\u001b[0;32m~/anaconda3/lib/python3.6/site-packages/tornado/util.py\u001b[0m in \u001b[0;36mraise_exc_info\u001b[0;34m(exc_info)\u001b[0m\n",
      "\u001b[0;32m~/anaconda3/lib/python3.6/site-packages/tornado/gen.py\u001b[0m in \u001b[0;36mrun\u001b[0;34m(self)\u001b[0m\n\u001b[1;32m   1061\u001b[0m                     \u001b[0;32mif\u001b[0m \u001b[0mexc_info\u001b[0m \u001b[0;32mis\u001b[0m \u001b[0;32mnot\u001b[0m \u001b[0;32mNone\u001b[0m\u001b[0;34m:\u001b[0m\u001b[0;34m\u001b[0m\u001b[0m\n\u001b[1;32m   1062\u001b[0m                         \u001b[0;32mtry\u001b[0m\u001b[0;34m:\u001b[0m\u001b[0;34m\u001b[0m\u001b[0m\n\u001b[0;32m-> 1063\u001b[0;31m                             \u001b[0myielded\u001b[0m \u001b[0;34m=\u001b[0m \u001b[0mself\u001b[0m\u001b[0;34m.\u001b[0m\u001b[0mgen\u001b[0m\u001b[0;34m.\u001b[0m\u001b[0mthrow\u001b[0m\u001b[0;34m(\u001b[0m\u001b[0;34m*\u001b[0m\u001b[0mexc_info\u001b[0m\u001b[0;34m)\u001b[0m\u001b[0;34m\u001b[0m\u001b[0m\n\u001b[0m\u001b[1;32m   1064\u001b[0m                         \u001b[0;32mfinally\u001b[0m\u001b[0;34m:\u001b[0m\u001b[0;34m\u001b[0m\u001b[0m\n\u001b[1;32m   1065\u001b[0m                             \u001b[0;31m# Break up a reference to itself\u001b[0m\u001b[0;34m\u001b[0m\u001b[0;34m\u001b[0m\u001b[0m\n",
      "\u001b[0;32m~/anaconda3/lib/python3.6/site-packages/distributed/client.py\u001b[0m in \u001b[0;36m_ensure_connected\u001b[0;34m(self, timeout)\u001b[0m\n\u001b[1;32m    776\u001b[0m         \u001b[0;32mtry\u001b[0m\u001b[0;34m:\u001b[0m\u001b[0;34m\u001b[0m\u001b[0m\n\u001b[1;32m    777\u001b[0m             comm = yield connect(self.scheduler.address, timeout=timeout,\n\u001b[0;32m--> 778\u001b[0;31m                                  connection_args=self.connection_args)\n\u001b[0m\u001b[1;32m    779\u001b[0m             \u001b[0;32myield\u001b[0m \u001b[0mself\u001b[0m\u001b[0;34m.\u001b[0m\u001b[0m_update_scheduler_info\u001b[0m\u001b[0;34m(\u001b[0m\u001b[0;34m)\u001b[0m\u001b[0;34m\u001b[0m\u001b[0m\n\u001b[1;32m    780\u001b[0m             yield comm.write({'op': 'register-client',\n",
      "\u001b[0;32m~/anaconda3/lib/python3.6/site-packages/tornado/gen.py\u001b[0m in \u001b[0;36mrun\u001b[0;34m(self)\u001b[0m\n\u001b[1;32m   1053\u001b[0m \u001b[0;34m\u001b[0m\u001b[0m\n\u001b[1;32m   1054\u001b[0m                     \u001b[0;32mtry\u001b[0m\u001b[0;34m:\u001b[0m\u001b[0;34m\u001b[0m\u001b[0m\n\u001b[0;32m-> 1055\u001b[0;31m                         \u001b[0mvalue\u001b[0m \u001b[0;34m=\u001b[0m \u001b[0mfuture\u001b[0m\u001b[0;34m.\u001b[0m\u001b[0mresult\u001b[0m\u001b[0;34m(\u001b[0m\u001b[0;34m)\u001b[0m\u001b[0;34m\u001b[0m\u001b[0m\n\u001b[0m\u001b[1;32m   1056\u001b[0m                     \u001b[0;32mexcept\u001b[0m \u001b[0mException\u001b[0m\u001b[0;34m:\u001b[0m\u001b[0;34m\u001b[0m\u001b[0m\n\u001b[1;32m   1057\u001b[0m                         \u001b[0mself\u001b[0m\u001b[0;34m.\u001b[0m\u001b[0mhad_exception\u001b[0m \u001b[0;34m=\u001b[0m \u001b[0;32mTrue\u001b[0m\u001b[0;34m\u001b[0m\u001b[0m\n",
      "\u001b[0;32m~/anaconda3/lib/python3.6/site-packages/tornado/concurrent.py\u001b[0m in \u001b[0;36mresult\u001b[0;34m(self, timeout)\u001b[0m\n\u001b[1;32m    236\u001b[0m         \u001b[0;32mif\u001b[0m \u001b[0mself\u001b[0m\u001b[0;34m.\u001b[0m\u001b[0m_exc_info\u001b[0m \u001b[0;32mis\u001b[0m \u001b[0;32mnot\u001b[0m \u001b[0;32mNone\u001b[0m\u001b[0;34m:\u001b[0m\u001b[0;34m\u001b[0m\u001b[0m\n\u001b[1;32m    237\u001b[0m             \u001b[0;32mtry\u001b[0m\u001b[0;34m:\u001b[0m\u001b[0;34m\u001b[0m\u001b[0m\n\u001b[0;32m--> 238\u001b[0;31m                 \u001b[0mraise_exc_info\u001b[0m\u001b[0;34m(\u001b[0m\u001b[0mself\u001b[0m\u001b[0;34m.\u001b[0m\u001b[0m_exc_info\u001b[0m\u001b[0;34m)\u001b[0m\u001b[0;34m\u001b[0m\u001b[0m\n\u001b[0m\u001b[1;32m    239\u001b[0m             \u001b[0;32mfinally\u001b[0m\u001b[0;34m:\u001b[0m\u001b[0;34m\u001b[0m\u001b[0m\n\u001b[1;32m    240\u001b[0m                 \u001b[0mself\u001b[0m \u001b[0;34m=\u001b[0m \u001b[0;32mNone\u001b[0m\u001b[0;34m\u001b[0m\u001b[0m\n",
      "\u001b[0;32m~/anaconda3/lib/python3.6/site-packages/tornado/util.py\u001b[0m in \u001b[0;36mraise_exc_info\u001b[0;34m(exc_info)\u001b[0m\n",
      "\u001b[0;32m~/anaconda3/lib/python3.6/site-packages/tornado/gen.py\u001b[0m in \u001b[0;36mrun\u001b[0;34m(self)\u001b[0m\n\u001b[1;32m   1061\u001b[0m                     \u001b[0;32mif\u001b[0m \u001b[0mexc_info\u001b[0m \u001b[0;32mis\u001b[0m \u001b[0;32mnot\u001b[0m \u001b[0;32mNone\u001b[0m\u001b[0;34m:\u001b[0m\u001b[0;34m\u001b[0m\u001b[0m\n\u001b[1;32m   1062\u001b[0m                         \u001b[0;32mtry\u001b[0m\u001b[0;34m:\u001b[0m\u001b[0;34m\u001b[0m\u001b[0m\n\u001b[0;32m-> 1063\u001b[0;31m                             \u001b[0myielded\u001b[0m \u001b[0;34m=\u001b[0m \u001b[0mself\u001b[0m\u001b[0;34m.\u001b[0m\u001b[0mgen\u001b[0m\u001b[0;34m.\u001b[0m\u001b[0mthrow\u001b[0m\u001b[0;34m(\u001b[0m\u001b[0;34m*\u001b[0m\u001b[0mexc_info\u001b[0m\u001b[0;34m)\u001b[0m\u001b[0;34m\u001b[0m\u001b[0m\n\u001b[0m\u001b[1;32m   1064\u001b[0m                         \u001b[0;32mfinally\u001b[0m\u001b[0;34m:\u001b[0m\u001b[0;34m\u001b[0m\u001b[0m\n\u001b[1;32m   1065\u001b[0m                             \u001b[0;31m# Break up a reference to itself\u001b[0m\u001b[0;34m\u001b[0m\u001b[0;34m\u001b[0m\u001b[0m\n",
      "\u001b[0;32m~/anaconda3/lib/python3.6/site-packages/distributed/comm/core.py\u001b[0m in \u001b[0;36mconnect\u001b[0;34m(addr, timeout, deserialize, connection_args)\u001b[0m\n\u001b[1;32m    192\u001b[0m                 \u001b[0m_raise\u001b[0m\u001b[0;34m(\u001b[0m\u001b[0merror\u001b[0m\u001b[0;34m)\u001b[0m\u001b[0;34m\u001b[0m\u001b[0m\n\u001b[1;32m    193\u001b[0m         \u001b[0;32mexcept\u001b[0m \u001b[0mgen\u001b[0m\u001b[0;34m.\u001b[0m\u001b[0mTimeoutError\u001b[0m\u001b[0;34m:\u001b[0m\u001b[0;34m\u001b[0m\u001b[0m\n\u001b[0;32m--> 194\u001b[0;31m             \u001b[0m_raise\u001b[0m\u001b[0;34m(\u001b[0m\u001b[0merror\u001b[0m\u001b[0;34m)\u001b[0m\u001b[0;34m\u001b[0m\u001b[0m\n\u001b[0m\u001b[1;32m    195\u001b[0m         \u001b[0;32melse\u001b[0m\u001b[0;34m:\u001b[0m\u001b[0;34m\u001b[0m\u001b[0m\n\u001b[1;32m    196\u001b[0m             \u001b[0;32mbreak\u001b[0m\u001b[0;34m\u001b[0m\u001b[0m\n",
      "\u001b[0;32m~/anaconda3/lib/python3.6/site-packages/distributed/comm/core.py\u001b[0m in \u001b[0;36m_raise\u001b[0;34m(error)\u001b[0m\n\u001b[1;32m    175\u001b[0m         msg = (\"Timed out trying to connect to %r after %s s: %s\"\n\u001b[1;32m    176\u001b[0m                % (addr, timeout, error))\n\u001b[0;32m--> 177\u001b[0;31m         \u001b[0;32mraise\u001b[0m \u001b[0mIOError\u001b[0m\u001b[0;34m(\u001b[0m\u001b[0mmsg\u001b[0m\u001b[0;34m)\u001b[0m\u001b[0;34m\u001b[0m\u001b[0m\n\u001b[0m\u001b[1;32m    178\u001b[0m \u001b[0;34m\u001b[0m\u001b[0m\n\u001b[1;32m    179\u001b[0m     \u001b[0;32mwhile\u001b[0m \u001b[0;32mTrue\u001b[0m\u001b[0;34m:\u001b[0m\u001b[0;34m\u001b[0m\u001b[0m\n",
      "\u001b[0;31mOSError\u001b[0m: Timed out trying to connect to 'tcp://34.242.232.253:8786' after 5 s: connect() didn't finish in time"
     ]
    }
   ],
   "source": [
    "ip = '34.242.232.253'\n",
    "from dask_dp4gp import install_libraries_on_workers as ilow\n",
    "joblist = ['pip install -U pip','sudo apt install libgl1-mesa-glx -y','conda update scipy -y','pip install git+https://github.com/sods/paramz.git','pip install git+https://github.com/SheffieldML/GPy.git','pip install git+https://github.com/lionfish0/dp4gp.git','conda install dask-searchcv -c conda-forge -y', 'pip install git+https://github.com/lionfish0/dask_dp4gp.git', 'pip install numpy', 'conda remove argcomplete -y', 'pip install -U pip', 'pip install numpy', 'conda remove argcomplete -y', 'pip install git+https://github.com/lionfish0/hypercuboid_integrator.git','pip install git+https://github.com/lionfish0/GPAdversarialBound.git']\n",
    "ilow(ip+':8786',joblist)"
   ]
  },
  {
   "cell_type": "markdown",
   "metadata": {},
   "source": [
    "## The algorithm\n",
    "\n",
    "We're interested in how much one input axis can change a prediction. Thus we are interested in the *gradient* of the prediction wrt the inputs. If we break down the space of inputs into hypercubes and consider the gradient within each of these cubes we can then find the largest value that moving across the space would cause by adding up the `gradient*cube-width`. So we just need to:\n",
    "1. find a bound on the gradient within an arbitrary hypercube.\n",
    "2. split the space in an efficient way to minimise the `gradient*width` values.\n",
    "3. sum over the whole space, finding a path along each dimension that maximises the prediction change.\n",
    "\n",
    "### Details\n",
    "\n",
    "Consider a GP as $\\sum{\\alpha_i} \\text{k}(\\mathbf{x_i},\\mathbf{x_*})$\n",
    "where $\\mathbf{\\alpha} = K^{-1}\\mathbf{y}$\n",
    "\n",
    "We are interested in the greatest gradient.\n",
    "\n",
    "So we differentiate the whole thing by $x_{*d}$,\n",
    "\n",
    "Which, for the RBF kernel, gives us:\n",
    "\n",
    "$$\\sum{\\frac{\\alpha_i}{l^2} (x_{id} - x_{*d}) \\text{k}(\\mathbf{x_i},\\mathbf{x_*})}$$\n",
    "\n",
    "If the lengthscales are different on different dimensions, then $l$ is the lengthscale of dimension $d$.\n",
    "\n",
    "To find a bound on the maximum inside a box, with bounds $b_i \\leq x_{*i} \\leq b_i'$ we do the following steps:\n",
    "\n",
    "First, we just consider one input $\\mathbf{x_i}$ at a time.\n",
    "\n",
    "1. First consider dimension $d$. The maximum is at location $x_{id} - l \\text{sign}({y})$.\n",
    "2. Test whether this location is within $b_d$ and $b_d'$.\n",
    "3. If it isn't, compute the value at $b_d$ and $b_d'$ (with all the other values of $x_{*j}$ set to the values of $x_{ij}$).\n",
    "4. If one or more of the values is positive, select the largest (most positive). The other values of $x_{*j}$ set to the values of $x_{ij}$, or if these lie outside $b_j$ $b_j'$ set to the value of $b_j$ or $b_j'$ closest to $x_{ij}$\n",
    "5. If both the values are negative, then select the most positive. The other values of $x_{*j}$ should be set to those values of $b_j$ and $b_j'$ that are as far from $x_{ij}$.\n",
    " \n",
    "This gives us the value of that element of the sum which is largest inside the box.\n",
    "\n",
    "We then repeat 1-5 for each input $x_i$ $(i=1..N)$.\n",
    "\n",
    "We finally have, for a box, a list of values telling us the largest value the gradient can be for each term in the sum. We simply sum these to get an upper bound on the sum of the elements and hence the gradient in that direction, in that box.\n",
    "\n",
    "We split the input domain into a series of boxes (note that with the RBF kernel the above gradient will tend to zero at infinity) and find the bound in each. We repeat this for a value of $d=1..D$.\n",
    "\n",
    "We can finally find the largest change in output a change in one axis can cause. We are interested in a line across the domain in direction of axis $d$ such that the greatest increase occurs, while adding up all the boxes... so imagine we have a 2d space, that is split into 4 boxes,\n",
    "\n",
    "<pre>\n",
    " 6acros 3acr\n",
    "|------|---|\n",
    "|   2  | 3 |\n",
    "|------|---|\n",
    "|   3  | 4 |\n",
    "|==========>\n",
    "|------|---|\n",
    "</pre>\n",
    "\n",
    "The bounds on the gradient are written in the box. So we can see that the largest change maybe is a line in the bottom two boxes (indicated by the =====>). The first box is width 6 and has max gradient 3 so a change of up to 18 occured there. The second box has a max change of 12. So the total change is 30.\n",
    "\n",
    "We might want to split the first box in half, and find closer bounds... etc."
   ]
  },
  {
   "cell_type": "markdown",
   "metadata": {},
   "source": [
    "# GP Adversarial Bound Demo\n",
    "\n",
    "We consider a very simple 2d example with four datapoints, on four corners of a 1x1 square. Three of the points are 1, while one point (at [1,1]) is -1:\n",
    "\n",
    "```\n",
    "   1|1         -1\n",
    "    |\n",
    "    |   \n",
    "    |\n",
    "   0|1__________1\n",
    "     0          1\n",
    "```\n",
    "We set the lengthscale to 1 and the the value of $\\sigma^2$ is currently fixed in the code to 1.0.\n",
    "\n",
    "The kernel is an RBF kernel (this is a necessary aspect of the current mathematical derivation)."
   ]
  },
  {
   "cell_type": "code",
   "execution_count": 2,
   "metadata": {
    "scrolled": false
   },
   "outputs": [
    {
     "name": "stdout",
     "output_type": "stream",
     "text": [
      "--\n"
     ]
    },
    {
     "data": {
      "image/png": "[encoded data removed]",
      "text/plain": [
       "<matplotlib.figure.Figure at 0x7f4498b369b0>"
      ]
     },
     "metadata": {},
     "output_type": "display_data"
    }
   ],
   "source": [
    "l = 1.0\n",
    "X = np.array([[0,0],[0,1],[1,0],[1,1]])*1.0\n",
    "Y = np.array([[1,1,1,-1]]).T*1.0\n",
    "\n",
    "#positive Y:\n",
    "pos_allshifts,pos_dbinfo = getshiftbounds(X,Y,l=l,totalits=3,ip=ip)\n",
    "#print(pos_allshifts)\n",
    "#negative Y:\n",
    "print(\"--\")\n",
    "neg_allshifts,neg_dbinfo = getshiftbounds(X,-Y,l=l,totalits=3,ip=ip)\n",
    "#print(neg_allshifts)\n",
    "\n",
    "plt.figure(figsize=[5,10])\n",
    "plt.subplot(2,1,1)\n",
    "plot2dB(neg_dbinfo[0]['B'])\n",
    "\n",
    "plt.subplot(2,1,2)\n",
    "plot2dB(neg_dbinfo[1]['B'])"
   ]
  },
  {
   "cell_type": "markdown",
   "metadata": {},
   "source": [
    "#### Testing for symmetry\n",
    "\n",
    "As this is symmetric, half the iterations should have a higher bound on one dimension and half on the other."
   ]
  },
  {
   "cell_type": "code",
   "execution_count": 3,
   "metadata": {},
   "outputs": [
    {
     "name": "stdout",
     "output_type": "stream",
     "text": [
      "[ 0.5] [ 0.6]\n"
     ]
    }
   ],
   "source": [
    "s = 0\n",
    "t = 0\n",
    "N = 100\n",
    "for temp in range(N):\n",
    "    neg_allshifts,neg_dbinfo = getshiftbounds(X,-Y,l=l,totalits=3,ip=ip)\n",
    "    s+=((np.random.randn()*0.001+np.diff(neg_allshifts))>0)\n",
    "    t+=((np.random.randn()*0.001+np.diff(neg_allshifts))<0)\n",
    "print(s/N,t/N)"
   ]
  },
  {
   "cell_type": "markdown",
   "metadata": {},
   "source": [
    "### Interpretation\n",
    "\n",
    "We have first asked for an upper bound on the greatest increase in the prediction over the two dimensions. Because the gradient is basically never positive in the 0 to 1 domain, the algorithm has found an upper bound of zero.\n",
    "\n",
    "The story is very different if we include, for example the region from -1 to 1. In this case there is considerable positive gradient available from -1 (as the predictions climb from the prior mean towards the positive training data), similarly if we include the domain from 1 to 2, there's positive gradient as the predictions return to the prior from the negative sample, at [1,1].\n",
    "\n",
    "By inverting Y, we can perform the same analysis for the decrease in the prediction (with respect to the training inputs).\n",
    "\n",
    "To help see things more clearly let's plot the predictions:\n",
    "\n",
    "I've plotted points that are greater than 0.6 or less than 0."
   ]
  },
  {
   "cell_type": "code",
   "execution_count": 4,
   "metadata": {},
   "outputs": [
    {
     "name": "stderr",
     "output_type": "stream",
     "text": [
      "/home/mike/anaconda3/lib/python3.6/site-packages/matplotlib/collections.py:853: RuntimeWarning: invalid value encountered in sqrt\n",
      "  scale = np.sqrt(self._sizes) * dpi / 72.0 * self._factor\n"
     ]
    },
    {
     "data": {
      "image/png": "[encoded data removed]",
      "text/plain": [
       "<matplotlib.figure.Figure at 0x7f60cc5154e0>"
      ]
     },
     "metadata": {},
     "output_type": "display_data"
    }
   ],
   "source": [
    "Xtest = []\n",
    "for x1 in np.arange(0,1,0.02):\n",
    "    for x2 in np.arange(0,1,0.02):\n",
    "        Xtest.append([x1,x2])\n",
    "Xtest = np.array(Xtest)\n",
    "preds = getpred(Xtest,X,Y,l)\n",
    "plt.scatter(Xtest[:,0],Xtest[:,1],-100*preds,label='<0.0')\n",
    "plt.scatter(Xtest[:,0],Xtest[:,1],-60+100*preds,c='r',label='>0.6')\n",
    "plt.axis('equal');"
   ]
  },
  {
   "cell_type": "markdown",
   "metadata": {},
   "source": [
    "This simply shows how the predictions vary over the domain. As one can see the gradient is negative for both inputs.\n",
    "\n",
    "Let's see how much the predictions change for these test points. As the problem is symmetrical I'll just consider one axis.\n",
    "\n",
    "Here I'm plotting the data - but all on the same graph, effectively each line is for one value of input 0, showing the predictions as input 1 changes. The lower lines are for when input 0 is near 1 (where the negative training point lies) and the right hand side of the plot is near one (bringing us closer to the negative training point)."
   ]
  },
  {
   "cell_type": "code",
   "execution_count": 5,
   "metadata": {},
   "outputs": [
    {
     "data": {
      "text/plain": [
       "Text(0.5,1,'Predictions')"
      ]
     },
     "execution_count": 5,
     "metadata": {},
     "output_type": "execute_result"
    },
    {
     "data": {
      "image/png": "[encoded data removed]",
      "text/plain": [
       "<matplotlib.figure.Figure at 0x7f609b913ac8>"
      ]
     },
     "metadata": {},
     "output_type": "display_data"
    }
   ],
   "source": [
    "plt.plot(np.arange(0,1,0.02),np.reshape(preds,[50,50]),'k-');\n",
    "plt.xlabel('Training input 1')\n",
    "plt.ylabel('Prediction')\n",
    "plt.title('Predictions')"
   ]
  },
  {
   "cell_type": "markdown",
   "metadata": {},
   "source": [
    "The biggest change for any of these 'slices' we can find the approximate value of:"
   ]
  },
  {
   "cell_type": "code",
   "execution_count": 6,
   "metadata": {},
   "outputs": [
    {
     "data": {
      "text/plain": [
       "0.51058772000662833"
      ]
     },
     "execution_count": 6,
     "metadata": {},
     "output_type": "execute_result"
    }
   ],
   "source": [
    "np.max(np.max(np.reshape(preds,[50,50]),0)-np.min(np.reshape(preds,[50,50]),0))"
   ]
  },
  {
   "cell_type": "markdown",
   "metadata": {},
   "source": [
    "Our upper bound above was 0.55758 which is greater than this empirical value (phew!)."
   ]
  },
  {
   "cell_type": "markdown",
   "metadata": {},
   "source": [
    "### What does this mean practically?\n",
    "\n",
    "Our bound means that we can only change the prediction by up to 0.56 by changing one of the inputs.\n",
    "\n",
    "If we want to move from a very positive value, of 0.6, to the smallest value in the domain of about 0. We would need to change both training points. As 0.6>0.56.\n",
    "\n",
    "One can see this in the earlier 2d plot: To get from the region greater than 0.6, to the region of less than 0 can't be done by changing just one input."
   ]
  },
  {
   "cell_type": "markdown",
   "metadata": {},
   "source": [
    "### Detour: Current Debug Concern...\n",
    "\n",
    "Given the problem is symmetric for the two input dimensions; I'm worried why the two bounds are different for the two dimensions. I think this indicates there might be a programming error. We need to find where this asymmetry arises.\n"
   ]
  },
  {
   "cell_type": "markdown",
   "metadata": {},
   "source": [
    "### 5d example\n",
    "\n",
    "To extend the 2d example above slightly, we consider ten data points, at some of the 32 corners of a 5d unit hypercube. Lengthscale = 0.3"
   ]
  },
  {
   "cell_type": "code",
   "execution_count": 7,
   "metadata": {},
   "outputs": [
    {
     "name": "stdout",
     "output_type": "stream",
     "text": [
      "(50/2000)\n",
      "(150/2000)\n",
      "(250/2000)\n",
      "(350/2000)\n"
     ]
    },
    {
     "ename": "KeyboardInterrupt",
     "evalue": "",
     "output_type": "error",
     "traceback": [
      "\u001b[0;31m---------------------------------------------------------------------------\u001b[0m",
      "\u001b[0;31mKeyboardInterrupt\u001b[0m                         Traceback (most recent call last)",
      "\u001b[0;32m<ipython-input-7-05a69d2744ed>\u001b[0m in \u001b[0;36m<module>\u001b[0;34m()\u001b[0m\n\u001b[1;32m      4\u001b[0m \u001b[0;34m\u001b[0m\u001b[0m\n\u001b[1;32m      5\u001b[0m \u001b[0;31m#positive Y:\u001b[0m\u001b[0;34m\u001b[0m\u001b[0;34m\u001b[0m\u001b[0m\n\u001b[0;32m----> 6\u001b[0;31m \u001b[0mpos_allshifts\u001b[0m\u001b[0;34m,\u001b[0m\u001b[0mpos_dbinfo\u001b[0m \u001b[0;34m=\u001b[0m \u001b[0mgetshiftbounds\u001b[0m\u001b[0;34m(\u001b[0m\u001b[0mX\u001b[0m\u001b[0;34m,\u001b[0m\u001b[0mY\u001b[0m\u001b[0;34m,\u001b[0m\u001b[0ml\u001b[0m\u001b[0;34m=\u001b[0m\u001b[0ml\u001b[0m\u001b[0;34m,\u001b[0m\u001b[0mtotalits\u001b[0m\u001b[0;34m=\u001b[0m\u001b[0;36m2000\u001b[0m\u001b[0;34m,\u001b[0m\u001b[0mip\u001b[0m\u001b[0;34m=\u001b[0m\u001b[0mip\u001b[0m\u001b[0;34m)\u001b[0m\u001b[0;34m\u001b[0m\u001b[0m\n\u001b[0m\u001b[1;32m      7\u001b[0m \u001b[0mprint\u001b[0m\u001b[0;34m(\u001b[0m\u001b[0mpos_allshifts\u001b[0m\u001b[0;34m)\u001b[0m\u001b[0;34m\u001b[0m\u001b[0m\n\u001b[1;32m      8\u001b[0m \u001b[0;31m#negative Y:\u001b[0m\u001b[0;34m\u001b[0m\u001b[0;34m\u001b[0m\u001b[0m\n",
      "\u001b[0;32m~/Documents/Research/GPAdversarialBound/GPAdversarialBound/__init__.py\u001b[0m in \u001b[0;36mgetshiftbounds\u001b[0;34m(X, Y, l, totalits, earlystop, valmin, valmax, dimensions, ip)\u001b[0m\n\u001b[1;32m    424\u001b[0m     \u001b[0;32mif\u001b[0m \u001b[0mip\u001b[0m \u001b[0;32mis\u001b[0m \u001b[0;32mNone\u001b[0m\u001b[0;34m:\u001b[0m\u001b[0;34m\u001b[0m\u001b[0m\n\u001b[1;32m    425\u001b[0m         \u001b[0;32mfor\u001b[0m \u001b[0mgraddim\u001b[0m \u001b[0;32min\u001b[0m \u001b[0mdimensions\u001b[0m\u001b[0;34m:\u001b[0m\u001b[0;34m\u001b[0m\u001b[0m\n\u001b[0;32m--> 426\u001b[0;31m             \u001b[0mdebug\u001b[0m\u001b[0;34m,\u001b[0m \u001b[0mshift\u001b[0m \u001b[0;34m=\u001b[0m \u001b[0mgetshiftboundsfordim\u001b[0m\u001b[0;34m(\u001b[0m\u001b[0mgraddim\u001b[0m\u001b[0;34m,\u001b[0m\u001b[0mX\u001b[0m\u001b[0;34m,\u001b[0m\u001b[0mY\u001b[0m\u001b[0;34m,\u001b[0m\u001b[0ml\u001b[0m\u001b[0;34m,\u001b[0m\u001b[0mtotalits\u001b[0m\u001b[0;34m,\u001b[0m\u001b[0mearlystop\u001b[0m\u001b[0;34m,\u001b[0m\u001b[0mvalmin\u001b[0m\u001b[0;34m,\u001b[0m\u001b[0mvalmax\u001b[0m\u001b[0;34m)\u001b[0m\u001b[0;34m\u001b[0m\u001b[0m\n\u001b[0m\u001b[1;32m    427\u001b[0m             \u001b[0mdebuginfo\u001b[0m\u001b[0;34m.\u001b[0m\u001b[0mappend\u001b[0m\u001b[0;34m(\u001b[0m\u001b[0mdebug\u001b[0m\u001b[0;34m)\u001b[0m\u001b[0;34m\u001b[0m\u001b[0m\n\u001b[1;32m    428\u001b[0m             \u001b[0mallshifts\u001b[0m\u001b[0;34m.\u001b[0m\u001b[0mappend\u001b[0m\u001b[0;34m(\u001b[0m\u001b[0mshift\u001b[0m\u001b[0;34m)\u001b[0m\u001b[0;34m\u001b[0m\u001b[0m\n",
      "\u001b[0;32m~/Documents/Research/GPAdversarialBound/GPAdversarialBound/__init__.py\u001b[0m in \u001b[0;36mgetshiftboundsfordim\u001b[0;34m(graddim, X, Y, l, totalits, earlystop, valmin, valmax)\u001b[0m\n\u001b[1;32m    321\u001b[0m         \u001b[0;32mfor\u001b[0m \u001b[0mi\u001b[0m \u001b[0;32min\u001b[0m \u001b[0mnp\u001b[0m\u001b[0;34m.\u001b[0m\u001b[0mrandom\u001b[0m\u001b[0;34m.\u001b[0m\u001b[0mpermutation\u001b[0m\u001b[0;34m(\u001b[0m\u001b[0mrange\u001b[0m\u001b[0;34m(\u001b[0m\u001b[0mlen\u001b[0m\u001b[0;34m(\u001b[0m\u001b[0mB\u001b[0m\u001b[0;34m)\u001b[0m\u001b[0;34m)\u001b[0m\u001b[0;34m)\u001b[0m\u001b[0;34m:\u001b[0m\u001b[0;34m\u001b[0m\u001b[0m\n\u001b[1;32m    322\u001b[0m             \u001b[0;32mif\u001b[0m \u001b[0mpeakgrads\u001b[0m\u001b[0;34m[\u001b[0m\u001b[0mi\u001b[0m\u001b[0;34m]\u001b[0m \u001b[0;32mis\u001b[0m \u001b[0mnp\u001b[0m\u001b[0;34m.\u001b[0m\u001b[0mNaN\u001b[0m\u001b[0;34m:\u001b[0m\u001b[0;34m\u001b[0m\u001b[0m\n\u001b[0;32m--> 323\u001b[0;31m                 \u001b[0mpeakgrad\u001b[0m\u001b[0;34m,\u001b[0m \u001b[0mpeaklocs\u001b[0m\u001b[0;34m,\u001b[0m \u001b[0mpeakvals\u001b[0m \u001b[0;34m=\u001b[0m \u001b[0mcompute_box_bound\u001b[0m\u001b[0;34m(\u001b[0m\u001b[0mB\u001b[0m\u001b[0;34m[\u001b[0m\u001b[0mi\u001b[0m\u001b[0;34m]\u001b[0m\u001b[0;34m,\u001b[0m\u001b[0mX\u001b[0m\u001b[0;34m,\u001b[0m\u001b[0mY\u001b[0m\u001b[0;34m,\u001b[0m\u001b[0ml\u001b[0m\u001b[0;34m,\u001b[0m\u001b[0mgraddim\u001b[0m\u001b[0;34m)\u001b[0m\u001b[0;34m\u001b[0m\u001b[0m\n\u001b[0m\u001b[1;32m    324\u001b[0m                 \u001b[0mpeakgrads\u001b[0m\u001b[0;34m[\u001b[0m\u001b[0mi\u001b[0m\u001b[0;34m]\u001b[0m \u001b[0;34m=\u001b[0m \u001b[0mpeakgrad\u001b[0m\u001b[0;34m\u001b[0m\u001b[0m\n\u001b[1;32m    325\u001b[0m         \u001b[0;31m#print(np.max(np.array([p[0,0] for p in peakgrads if p is not np.NaN])))\u001b[0m\u001b[0;34m\u001b[0m\u001b[0;34m\u001b[0m\u001b[0m\n",
      "\u001b[0;32m~/Documents/Research/GPAdversarialBound/GPAdversarialBound/__init__.py\u001b[0m in \u001b[0;36mcompute_box_bound\u001b[0;34m(b, X, Y, l, dim)\u001b[0m\n\u001b[1;32m    158\u001b[0m     \u001b[0mpeakvals\u001b[0m \u001b[0;34m=\u001b[0m \u001b[0;34m[\u001b[0m\u001b[0;34m]\u001b[0m \u001b[0;31m#values of the gradients at these peaks\u001b[0m\u001b[0;34m\u001b[0m\u001b[0m\n\u001b[1;32m    159\u001b[0m \u001b[0;34m\u001b[0m\u001b[0m\n\u001b[0;32m--> 160\u001b[0;31m     \u001b[0malpha\u001b[0m \u001b[0;34m=\u001b[0m \u001b[0mcomputeAlpha\u001b[0m\u001b[0;34m(\u001b[0m\u001b[0mX\u001b[0m\u001b[0;34m,\u001b[0m\u001b[0mY\u001b[0m\u001b[0;34m,\u001b[0m\u001b[0ml\u001b[0m\u001b[0;34m)\u001b[0m\u001b[0;34m\u001b[0m\u001b[0m\n\u001b[0m\u001b[1;32m    161\u001b[0m     \u001b[0;31m#loop over all training points.\u001b[0m\u001b[0;34m\u001b[0m\u001b[0;34m\u001b[0m\u001b[0m\n\u001b[1;32m    162\u001b[0m     \u001b[0;32mfor\u001b[0m \u001b[0mi\u001b[0m \u001b[0;32min\u001b[0m \u001b[0mrange\u001b[0m\u001b[0;34m(\u001b[0m\u001b[0mX\u001b[0m\u001b[0;34m.\u001b[0m\u001b[0mshape\u001b[0m\u001b[0;34m[\u001b[0m\u001b[0;36m0\u001b[0m\u001b[0;34m]\u001b[0m\u001b[0;34m)\u001b[0m\u001b[0;34m:\u001b[0m\u001b[0;34m\u001b[0m\u001b[0m\n",
      "\u001b[0;32m~/Documents/Research/GPAdversarialBound/GPAdversarialBound/__init__.py\u001b[0m in \u001b[0;36mcomputeAlpha\u001b[0;34m(X, Y, l)\u001b[0m\n\u001b[1;32m     37\u001b[0m     \u001b[0mNOTE\u001b[0m\u001b[0;34m:\u001b[0m \u001b[0mFor\u001b[0m \u001b[0mnow\u001b[0m \u001b[0mwe\u001b[0m \u001b[0massume\u001b[0m\u001b[0;31m \u001b[0m\u001b[0;31m\\\u001b[0m\u001b[0msigma\u001b[0m\u001b[0;34m^\u001b[0m\u001b[0;36m2\u001b[0m \u001b[0;34m=\u001b[0m \u001b[0;36m1.\u001b[0m\u001b[0;34m\u001b[0m\u001b[0m\n\u001b[1;32m     38\u001b[0m     \"\"\"\n\u001b[0;32m---> 39\u001b[0;31m     \u001b[0;32mreturn\u001b[0m \u001b[0mnp\u001b[0m\u001b[0;34m.\u001b[0m\u001b[0mdot\u001b[0m\u001b[0;34m(\u001b[0m\u001b[0mnp\u001b[0m\u001b[0;34m.\u001b[0m\u001b[0mlinalg\u001b[0m\u001b[0;34m.\u001b[0m\u001b[0minv\u001b[0m\u001b[0;34m(\u001b[0m\u001b[0mk\u001b[0m\u001b[0;34m(\u001b[0m\u001b[0mX\u001b[0m\u001b[0;34m,\u001b[0m\u001b[0mX\u001b[0m\u001b[0;34m,\u001b[0m\u001b[0ml\u001b[0m\u001b[0;34m)\u001b[0m\u001b[0;34m+\u001b[0m\u001b[0mnp\u001b[0m\u001b[0;34m.\u001b[0m\u001b[0meye\u001b[0m\u001b[0;34m(\u001b[0m\u001b[0mlen\u001b[0m\u001b[0;34m(\u001b[0m\u001b[0mX\u001b[0m\u001b[0;34m)\u001b[0m\u001b[0;34m)\u001b[0m\u001b[0;34m)\u001b[0m\u001b[0;34m,\u001b[0m\u001b[0mY\u001b[0m\u001b[0;34m)\u001b[0m\u001b[0;34m\u001b[0m\u001b[0m\n\u001b[0m\u001b[1;32m     40\u001b[0m \u001b[0;34m\u001b[0m\u001b[0m\n\u001b[1;32m     41\u001b[0m \u001b[0;31m#slower...\u001b[0m\u001b[0;34m\u001b[0m\u001b[0;34m\u001b[0m\u001b[0m\n",
      "\u001b[0;32m~/anaconda3/lib/python3.6/site-packages/numpy/linalg/linalg.py\u001b[0m in \u001b[0;36minv\u001b[0;34m(a)\u001b[0m\n\u001b[1;32m    511\u001b[0m     \u001b[0msignature\u001b[0m \u001b[0;34m=\u001b[0m \u001b[0;34m'D->D'\u001b[0m \u001b[0;32mif\u001b[0m \u001b[0misComplexType\u001b[0m\u001b[0;34m(\u001b[0m\u001b[0mt\u001b[0m\u001b[0;34m)\u001b[0m \u001b[0;32melse\u001b[0m \u001b[0;34m'd->d'\u001b[0m\u001b[0;34m\u001b[0m\u001b[0m\n\u001b[1;32m    512\u001b[0m     \u001b[0mextobj\u001b[0m \u001b[0;34m=\u001b[0m \u001b[0mget_linalg_error_extobj\u001b[0m\u001b[0;34m(\u001b[0m\u001b[0m_raise_linalgerror_singular\u001b[0m\u001b[0;34m)\u001b[0m\u001b[0;34m\u001b[0m\u001b[0m\n\u001b[0;32m--> 513\u001b[0;31m     \u001b[0mainv\u001b[0m \u001b[0;34m=\u001b[0m \u001b[0m_umath_linalg\u001b[0m\u001b[0;34m.\u001b[0m\u001b[0minv\u001b[0m\u001b[0;34m(\u001b[0m\u001b[0ma\u001b[0m\u001b[0;34m,\u001b[0m \u001b[0msignature\u001b[0m\u001b[0;34m=\u001b[0m\u001b[0msignature\u001b[0m\u001b[0;34m,\u001b[0m \u001b[0mextobj\u001b[0m\u001b[0;34m=\u001b[0m\u001b[0mextobj\u001b[0m\u001b[0;34m)\u001b[0m\u001b[0;34m\u001b[0m\u001b[0m\n\u001b[0m\u001b[1;32m    514\u001b[0m     \u001b[0;32mreturn\u001b[0m \u001b[0mwrap\u001b[0m\u001b[0;34m(\u001b[0m\u001b[0mainv\u001b[0m\u001b[0;34m.\u001b[0m\u001b[0mastype\u001b[0m\u001b[0;34m(\u001b[0m\u001b[0mresult_t\u001b[0m\u001b[0;34m,\u001b[0m \u001b[0mcopy\u001b[0m\u001b[0;34m=\u001b[0m\u001b[0;32mFalse\u001b[0m\u001b[0;34m)\u001b[0m\u001b[0;34m)\u001b[0m\u001b[0;34m\u001b[0m\u001b[0m\n\u001b[1;32m    515\u001b[0m \u001b[0;34m\u001b[0m\u001b[0m\n",
      "\u001b[0;31mKeyboardInterrupt\u001b[0m: "
     ]
    }
   ],
   "source": [
    "l = 0.3\n",
    "X = np.array([[0,0,0,0,0],[0,0,1,0,0],[1,0,0,0,0],[1,0,0,0,1],[1,0,0,1,0],[1,0,1,0,1],[0,1,1,0,1],[1,1,0,1,1],[0,1,1,1,1],[1,1,1,1,1]])*1.0\n",
    "Y = np.array([[-1,-1,-1,-1,-1,1,1,1,1,1]]).T*1.0\n",
    "\n",
    "#positive Y:\n",
    "pos_allshifts,pos_dbinfo = getshiftbounds(X,Y,l=l,totalits=2000,ip=ip)\n",
    "print(pos_allshifts)\n",
    "#negative Y:\n",
    "neg_allshifts,neg_dbinfo = getshiftbounds(X,-Y,l=l,totalits=2000,ip=ip)\n",
    "print(neg_allshifts)"
   ]
  },
  {
   "cell_type": "markdown",
   "metadata": {},
   "source": [
    "The positive and negative shifts possible in the five dimension are listed. We should consider the largest for each dimension. Running the algorithm for longer might push these bounds down, but takes time.\n",
    "\n",
    "How do these values compare to the actual changes possible, and what does it mean for the number of dimensions we'd need to change?\n",
    "\n",
    "If we look at the predictions at the ten data points (probably this is close to the 'extremes' of the range of predictions) we can see that the prediction can change by about 1.0. We arbitrarily consider then a change of 90% of the full change in the prediction value (0.9) to be sufficient to go from one confident class to another. Disappointingly it seems the prediction can go from one class to another with the change of just one input (the 3rd)."
   ]
  },
  {
   "cell_type": "code",
   "execution_count": 10,
   "metadata": {},
   "outputs": [
    {
     "data": {
      "text/plain": [
       "array([[-0.50193295],\n",
       "       [-0.500959  ],\n",
       "       [-0.50289382],\n",
       "       [-0.49999625],\n",
       "       [-0.5009646 ],\n",
       "       [ 0.49903352],\n",
       "       [ 0.50096647],\n",
       "       [ 0.50095901],\n",
       "       [ 0.50193108],\n",
       "       [ 0.50193482]])"
      ]
     },
     "execution_count": 10,
     "metadata": {},
     "output_type": "execute_result"
    }
   ],
   "source": [
    "getpred(X,X,Y,l)"
   ]
  },
  {
   "cell_type": "markdown",
   "metadata": {},
   "source": [
    "Maybe our bounds are excessively large? We here consider a lower bound on the change by looking at the empirical values for the predictions. We can see that the prediction can change by at least 0.999 by changing the third input. Maybe our bound is a little too high (1.19), and needs to be made closer to the actual value."
   ]
  },
  {
   "cell_type": "code",
   "execution_count": 12,
   "metadata": {},
   "outputs": [
    {
     "name": "stdout",
     "output_type": "stream",
     "text": [
      "[ 0.99902977]\n"
     ]
    }
   ],
   "source": [
    "maxchange = 0\n",
    "for x1 in np.arange(0,1.001,0.2):\n",
    "    for x2 in np.arange(0,1.001,0.2):\n",
    "        for x4 in np.arange(0,1.001,0.2):\n",
    "            for x5 in np.arange(0,1.001,0.2):\n",
    "                Xtest = []\n",
    "                for x3 in np.arange(0,1.001,0.05):\n",
    "                    Xtest.append([x1,x2,x3,x4,x5])\n",
    "                Xtest = np.array(Xtest)\n",
    "                preds = getpred(Xtest,X,Y,l)\n",
    "                maxchange=max(maxchange,(max(preds)-min(preds)))\n",
    "print(maxchange)"
   ]
  },
  {
   "cell_type": "markdown",
   "metadata": {},
   "source": [
    "Does increasing the lengthscale help?"
   ]
  },
  {
   "cell_type": "code",
   "execution_count": 13,
   "metadata": {},
   "outputs": [],
   "source": [
    "l = 2.0 #instead of 0.3"
   ]
  },
  {
   "cell_type": "code",
   "execution_count": 14,
   "metadata": {
    "scrolled": true
   },
   "outputs": [
    {
     "name": "stdout",
     "output_type": "stream",
     "text": [
      "\n",
      "[0.20168044808520585, 0.58150637248317649, 0.4914559923078024, 0.34913569629146424, 0.59973673112725279]\n",
      "\n",
      "[0.15134496211660131, 0, 0, 0.0034721390672939464, 0]\n"
     ]
    }
   ],
   "source": [
    "#positive Y:\n",
    "pos_allshifts,pos_dbinfo = getshiftbounds(X,Y,l=l,totalits=2000)\n",
    "print(pos_allshifts)\n",
    "#negative Y:\n",
    "neg_allshifts,neg_dbinfo = getshiftbounds(X,-Y,l=l,totalits=2000)\n",
    "print(neg_allshifts)"
   ]
  },
  {
   "cell_type": "code",
   "execution_count": 15,
   "metadata": {},
   "outputs": [
    {
     "name": "stdout",
     "output_type": "stream",
     "text": [
      "[ 0.33230797]\n"
     ]
    }
   ],
   "source": [
    "maxchange = 0\n",
    "for x1 in np.arange(0,1.001,0.2):\n",
    "    for x2 in np.arange(0,1.001,0.2):\n",
    "        for x4 in np.arange(0,1.001,0.2):\n",
    "            for x5 in np.arange(0,1.001,0.2):\n",
    "                Xtest = []\n",
    "                for x3 in np.arange(0,1.001,0.05):\n",
    "                    Xtest.append([x1,x2,x3,x4,x5])\n",
    "                Xtest = np.array(Xtest)\n",
    "                preds = getpred(Xtest,X,Y,l)\n",
    "                maxchange=max(maxchange,(max(preds)-min(preds)))\n",
    "print(maxchange)"
   ]
  },
  {
   "cell_type": "code",
   "execution_count": 16,
   "metadata": {},
   "outputs": [
    {
     "name": "stdout",
     "output_type": "stream",
     "text": [
      "[[-0.59821301]\n",
      " [-0.3174621 ]\n",
      " [-0.5847893 ]\n",
      " [-0.20780537]\n",
      " [-0.41833905]\n",
      " [ 0.11807495]\n",
      " [ 0.44125327]\n",
      " [ 0.34000354]\n",
      " [ 0.58984378]\n",
      " [ 0.62064364]]\n"
     ]
    },
    {
     "data": {
      "text/plain": [
       "array([ 1.21885665])"
      ]
     },
     "execution_count": 16,
     "metadata": {},
     "output_type": "execute_result"
    }
   ],
   "source": [
    "preds = getpred(X,X,Y,l)\n",
    "print(preds)\n",
    "max(preds)-min(preds)"
   ]
  },
  {
   "cell_type": "markdown",
   "metadata": {},
   "source": [
    "The predictions can change by 1.22 (if we scale by 0.9 again that's 1.098). We now need at least two inputs to change (specifically the 2nd, 3rd or 5th input) to cause this change. So increasing the lengthscale does appear to have helped a little.\n",
    "\n",
    "Ways to make this quicker:\n",
    "\n",
    "1. Maybe we should slice up the space more efficiently.\n",
    "2. Pick on those dimensions with the highest bounds first."
   ]
  },
  {
   "cell_type": "markdown",
   "metadata": {},
   "source": [
    "Quickly looking at an even longer lengthscale (of 4.0)."
   ]
  },
  {
   "cell_type": "code",
   "execution_count": 17,
   "metadata": {},
   "outputs": [
    {
     "name": "stdout",
     "output_type": "stream",
     "text": [
      "Upper Bounds on change in inputs on prediction:\n",
      "\n",
      "[0.066745745337653928, 0.24275593172327753, 0.19975163699534149, 0.14785710474294567, 0.2462846049389881]\n",
      "\n",
      "[0.058157635615308567, 0, 0, 0, 0]\n",
      "Lower bound on effect of 5th input\n",
      "[ 0.13850615]\n",
      "Actual predictions at training locations\n",
      "[[-0.28143466]\n",
      " [-0.14772808]\n",
      " [-0.27805889]\n",
      " [-0.09932869]\n",
      " [-0.19381064]\n",
      " [ 0.03786542]\n",
      " [ 0.20770426]\n",
      " [ 0.16161878]\n",
      " [ 0.29030614]\n",
      " [ 0.29530332]]\n",
      "Biggest actual change in these predictions\n"
     ]
    },
    {
     "data": {
      "text/plain": [
       "array([ 0.57673798])"
      ]
     },
     "execution_count": 17,
     "metadata": {},
     "output_type": "execute_result"
    }
   ],
   "source": [
    "l = 4.0 #instead of 0.3 or 2.0\n",
    "#positive Y:\n",
    "print(\"Upper Bounds on change in inputs on prediction:\")\n",
    "pos_allshifts,pos_dbinfo = getshiftbounds(X,Y,l=l,totalits=2000)\n",
    "print(pos_allshifts)\n",
    "#negative Y:\n",
    "neg_allshifts,neg_dbinfo = getshiftbounds(X,-Y,l=l,totalits=2000)\n",
    "print(neg_allshifts)\n",
    "\n",
    "print(\"Lower bound on effect of 3rd input\")\n",
    "maxchange = 0\n",
    "for x1 in np.arange(0,1.001,0.2):\n",
    "    for x2 in np.arange(0,1.001,0.2):\n",
    "        for x4 in np.arange(0,1.001,0.2):\n",
    "            for x5 in np.arange(0,1.001,0.2):\n",
    "                Xtest = []\n",
    "                for x3 in np.arange(0,1.001,0.05):\n",
    "                    Xtest.append([x1,x2,x3,x4,x5])\n",
    "                Xtest = np.array(Xtest)\n",
    "                preds = getpred(Xtest,X,Y,l)\n",
    "                maxchange=max(maxchange,(max(preds)-min(preds)))\n",
    "print(maxchange)\n",
    "\n",
    "print(\"Actual predictions at training locations\")\n",
    "preds = getpred(X,X,Y,l)\n",
    "print(preds)\n",
    "print(\"Biggest actual change in these predictions\")\n",
    "max(preds)-min(preds)"
   ]
  },
  {
   "cell_type": "markdown",
   "metadata": {},
   "source": [
    "To summarise - with this much longer length scale the prediction can only change by 0.58. The arbitrary 90% of this change is 0.519. The bounds on the effect the inputs can cause are also less though. The two largest inputs can't change a prediction by 0.519 - thus we need **three** inputs of the five to change, to change the classification from a confident one of one class to a confident classification in the other class.\n",
    "\n",
    "We can see that increasing the lengthscale increases the lower bound on the number of training points we need to change.\n",
    "\n",
    "We can also upper bound this, for these simple problems, by finding adversarial samples. Thus we maybe can show, for example, that increasing the lengthscale provably increases the 'robustness' of the classifier to adversarial examples.\n",
    "\n",
    "In summary an increase in lengthscale can help! But let's look at more dimensions..."
   ]
  },
  {
   "cell_type": "markdown",
   "metadata": {},
   "source": [
    "## MNIST example\n",
    "\n",
    "We demonstrate the tool with a more complex example, the MNIST dataset, which we scale to be 5x smaller and just look at a few ones and zeros."
   ]
  },
  {
   "cell_type": "code",
   "execution_count": 30,
   "metadata": {},
   "outputs": [],
   "source": [
    "ip=None"
   ]
  },
  {
   "cell_type": "code",
   "execution_count": 4,
   "metadata": {
    "scrolled": true
   },
   "outputs": [
    {
     "name": "stdout",
     "output_type": "stream",
     "text": [
      "------------------------------\n",
      "50\n",
      "(90, 9)\n",
      "(50/161)\n",
      "(150/161)\n",
      "[53.27781566615316]\n",
      "(50/154)\n",
      "(150/154)\n",
      "[50.803168956648037]\n",
      "Max of both\n",
      "[ 53.27781567]\n"
     ]
    }
   ],
   "source": [
    "from mnist import MNIST\n",
    "#download the mnist data from http://yann.lecun.com/exdb/mnist/\n",
    "#save in mnistdata folder in same directory as this notebook\n",
    "\n",
    "def getMNISTexample(scalingfactor=7):\n",
    "    mndata = MNIST('./mnistdata')\n",
    "    mnist_training = mndata.load_training()\n",
    "\n",
    "    #B = [np.array([[-10.0,20.0],[-10.0,20.0]])]\n",
    "    bigX = np.array(mnist_training[0])[np.array(mnist_training[1])<2,:]\n",
    "    bigXtest = bigX[91:100,:]\n",
    "    bigX = bigX[0:90,:]\n",
    "    Y = np.array(mnist_training[1])[np.array(mnist_training[1])<2]\n",
    "    Y = Y[:,None]*2.0-1.0\n",
    "    Ytest = Y[91:100,:]\n",
    "    Y = Y[0:90,:]\n",
    "\n",
    "    def scale(X,res):\n",
    "        newX = []\n",
    "        for x in X:\n",
    "            newx = np.zeros([1+int(28/res),1+int(28/res)])\n",
    "            xreshaped = x.reshape(28,28)\n",
    "            for newi,i in enumerate(np.arange(0,28,res)):\n",
    "                for newj,j in enumerate(np.arange(0,28,res)):\n",
    "                    newx[newi,newj] = np.mean(xreshaped[i:(i+res),j:(j+res)])\n",
    "            newX.append(newx.reshape(newx.size))\n",
    "        return np.array(newX)\n",
    "\n",
    "    X = scale(bigX,scalingfactor)\n",
    "    Xtest = scale(bigXtest,scalingfactor)\n",
    "    newres = int(X[0,:].size**.5)\n",
    "    return X,Y,Xtest,Ytest\n",
    "\n",
    "for totalits in [50]:\n",
    "    print(\"------------------------------\")\n",
    "    print(\"%d\" % totalits)\n",
    "    X,Y,Xtest,Ytest = getMNISTexample(scalingfactor=10)\n",
    "    print(X.shape)\n",
    "    #positive Y:\n",
    "    ###l = 2400.0\n",
    "    l = 15.0\n",
    "    pos_allshifts,pos_dbinfo = getshiftbounds(X,Y,l=l,totalits=totalits,valmax=255,dimensions=[4], ip=ip)\n",
    "    print(pos_allshifts)\n",
    "    #negative Y:\n",
    "    neg_allshifts,neg_dbinfo = getshiftbounds(X,-Y,l=l,totalits=totalits,valmax=255,dimensions=[4], ip=ip)\n",
    "    print(neg_allshifts)\n",
    "    print(\"Max of both\")\n",
    "    print(np.sort(np.max(np.c_[pos_allshifts,neg_allshifts],1))[::-1])"
   ]
  },
  {
   "cell_type": "code",
   "execution_count": 5,
   "metadata": {},
   "outputs": [
    {
     "name": "stderr",
     "output_type": "stream",
     "text": [
      " /home/mike/anaconda3/lib/python3.6/site-packages/GPy/kern/src/stationary.py:165: RuntimeWarning:overflow encountered in true_divide\n",
      " /home/mike/anaconda3/lib/python3.6/site-packages/GPy/kern/src/stationary.py:136: RuntimeWarning:overflow encountered in square\n",
      " /home/mike/anaconda3/lib/python3.6/site-packages/GPy/kern/src/stationary.py:137: RuntimeWarning:invalid value encountered in add\n",
      " /home/mike/anaconda3/lib/python3.6/site-packages/GPy/kern/src/rbf.py:46: RuntimeWarning:invalid value encountered in multiply\n"
     ]
    }
   ],
   "source": [
    "import GPy\n",
    "X,Y,Xtest,Ytest = getMNISTexample(scalingfactor=10)\n",
    "valmax = np.ones(X.shape[1])\n",
    "for it in range(3):\n",
    "    k = GPy.kern.RBF(9,ARD=True)\n",
    "    m = GPy.models.GPRegression(X,Y,k)\n",
    "    m.optimize()\n",
    "    valmax /= m.kern.lengthscale\n",
    "    X /= m.kern.lengthscale"
   ]
  },
  {
   "cell_type": "code",
   "execution_count": 51,
   "metadata": {},
   "outputs": [
    {
     "name": "stdout",
     "output_type": "stream",
     "text": [
      "(50/97)\n",
      "(50/84)\n",
      "(50/73)\n",
      "(50/91)\n",
      "(50/64)\n",
      "(50/62)\n",
      "[0.0018802266841285941, 8.6392836845346316e-16, 6.0474492580439486e-15, 0, 3.5403067621710912e-16, 4.2868552718381365e-14, 0.022806510622190176, 5.682939442548615e-16, 7.3906420638072969e-15]\n",
      "(50/78)\n",
      "[0, 0, 0, 0.14707029282907882, 0, 2.1766613691403971e-14, 0, 0, 0]\n",
      "Max of both\n",
      "[  1.47070293e-01   2.28065106e-02   1.88022668e-03   4.28685527e-14\n",
      "   7.39064206e-15   6.04744926e-15   8.63928368e-16   5.68293944e-16\n",
      "   3.54030676e-16]\n"
     ]
    }
   ],
   "source": [
    "l = 1.0\n",
    "pos_allshifts,pos_dbinfo = getshiftbounds(X,Y,l=l,totalits=5,valmax=valmax.tolist(), ip=ip)\n",
    "print(pos_allshifts)\n",
    "#negative Y:\n",
    "neg_allshifts,neg_dbinfo = getshiftbounds(X,-Y,l=l,totalits=5,valmax=valmax.tolist(), ip=ip)\n",
    "print(neg_allshifts)\n",
    "print(\"Max of both\")\n",
    "print(np.sort(np.max(np.c_[pos_allshifts,neg_allshifts],1))[::-1])"
   ]
  },
  {
   "cell_type": "code",
   "execution_count": 54,
   "metadata": {},
   "outputs": [],
   "source": [
    "maxes = np.max(np.c_[pos_allshifts,neg_allshifts],1)/valmax"
   ]
  },
  {
   "cell_type": "code",
   "execution_count": 59,
   "metadata": {},
   "outputs": [
    {
     "data": {
      "image/png": "[encoded data removed]",
      "text/plain": [
       "<matplotlib.figure.Figure at 0x7f608891ef60>"
      ]
     },
     "metadata": {},
     "output_type": "display_data"
    }
   ],
   "source": [
    "plt.imshow(maxes.reshape([3,3]))\n",
    "plt.clim([0,1])"
   ]
  },
  {
   "cell_type": "code",
   "execution_count": 61,
   "metadata": {},
   "outputs": [
    {
     "data": {
      "text/plain": [
       "array([  1.53049804e-01,   1.60927563e-07,   1.53282008e-07,\n",
       "         5.68548146e-01,   1.75440793e-07,   2.73965150e-07,\n",
       "         3.02754017e-01,   1.33475982e-07,   2.54383511e-07])"
      ]
     },
     "execution_count": 61,
     "metadata": {},
     "output_type": "execute_result"
    }
   ],
   "source": [
    "np.set_printoptions(suppress=True)\n",
    "maxes"
   ]
  },
  {
   "cell_type": "code",
   "execution_count": 58,
   "metadata": {},
   "outputs": [
    {
     "data": {
      "text/plain": [
       "<matplotlib.image.AxesImage at 0x7f6088983470>"
      ]
     },
     "execution_count": 58,
     "metadata": {},
     "output_type": "execute_result"
    },
    {
     "data": {
      "image/png": "[encoded data removed]",
      "text/plain": [
       "<matplotlib.figure.Figure at 0x7f608870d860>"
      ]
     },
     "metadata": {},
     "output_type": "display_data"
    }
   ],
   "source": [
    "plt.imshow(np.array(valmax).reshape(3,3))"
   ]
  },
  {
   "cell_type": "markdown",
   "metadata": {},
   "source": [
    "9 PIXELS!\n",
    "LENGTHSCALE = 15.\n",
    "50its = 57.759\n",
    "100its = 38.59\n",
    "200its = 30.46\n",
    "400its = 23.79\n",
    "800its = 18.44\n",
    "x\n",
    "3200its = \n",
    "\n",
    "LENGTHSCALE 15 (actual change available ~1.08)\n",
    "totalits = 150, lengthscale = 15. 16 pixels.\n",
    "46.5 [pixel 9]\n",
    "totalits = 1000, lengthscale = 15. 16 pixels.\n",
    "23.18 [pixel 9]\n",
    "totalits = 2000, ...\n",
    "19.88 [pixel 9]\n",
    "\n",
    "LENGTHSCALE 40 (actual change available ~2)\n",
    "totalits = 2000, lengthscale = 40. 16 pixels.\n",
    "16.809 [pixel 9]\n",
    "totalits = 1000, lengthscale = 40. 16 pixels.\n",
    "17.46 [pixel 9]\n",
    "\n",
    "totalits = 500, lengthscale = 40. 16 pixels.\n",
    "[ 20.61167695  20.51002419  18.64405545  18.61597592  17.35274751\n",
    "  16.38222626  15.92119635  13.95509815  12.95139176  12.86343681\n",
    "  12.76899228  12.54592965  12.46713479  12.10651117  11.5002078\n",
    "  11.27811593]\n",
    "\n",
    "\n",
    "\n",
    "LENGTHSCALE 200 (actual change available ??)\n",
    "totalits = 100, lengthscale = 200. 16 pixels\n",
    "[ 12.80110506  12.7663646   12.6338846   12.34834885  11.27531682\n",
    "  10.90766498  10.65270014  10.56035841  10.30909176  10.2943159\n",
    "  10.13909973  10.08172315  10.07844784  10.06780549  10.06673362\n",
    "  10.00778699]\n",
    "\n",
    "totalits = 500, lengthscale = 200. 16 pixels [~3 minutes x 2 + overhead < 10 mins]\n",
    "[ 11.59228096  11.4269993   11.17482736  10.90167401  10.77480208\n",
    "  10.56178454  10.55687932  10.40495974  10.30698279  10.14533829\n",
    "  10.04870913   9.97438643   9.95813241   9.94685383   9.8857553\n",
    "   9.79416254]\n",
    "\n",
    "totalits = 1000, lengthscale = 200. 16 pixels\n",
    "[ 11.48017764  11.43593677  10.80798835  10.75883776  10.66081845\n",
    "  10.38293052  10.30699542  10.27032344  10.07192226  10.06668644\n",
    "  10.02374089   9.97448159   9.92996086   9.88875628   9.80800128\n",
    "   9.79090597]\n",
    "\n",
    "25 pixels:\n",
    "totalits = 100, lengthscale = 200.\n",
    "[ 14.14587839  13.33175138  13.32608428  12.6599913   12.08762631\n",
    "  11.70736261  11.4580155   11.2560345   10.83212891  10.4295094\n",
    "  10.19903042  10.19020441   9.99829114   9.95804711   9.95804468\n",
    "   9.95801665   9.95612598   9.95612427   9.95608998   9.93681955\n",
    "   9.92907191   9.92759449   9.90960877   9.88238168   9.82794206]\n",
    "\n",
    "\n",
    "from totalits = 180...lengthscale=2400\n",
    "        Max of both\n",
    "        [ 0.5874921   0.56818688  0.56129305  0.53670019  0.52470125  0.51144551\n",
    "          0.48880568  0.44562814  0.43721578  0.42611792  0.41578221  0.41548644\n",
    "          0.41472339  0.40932994  0.40602355  0.40489007  0.40426588  0.40305009\n",
    "          0.4029622   0.40240853  0.40161357  0.40158691  0.40147937  0.40056012\n",
    "          0.39791116]\n",
    "  \n",
    "from totalits = 450... almost the same as above.\n",
    "\n",
    "These bounds suggest that we only need to change two pixels to achieve a large change in the prediction."
   ]
  },
  {
   "cell_type": "code",
   "execution_count": 22,
   "metadata": {},
   "outputs": [],
   "source": [
    "#import pickle\n",
    "#pickle.dump({'pos_allshifts':pos_allshifts,'pos_dbinfo':pos_dbinfo,'neg_allshifts':neg_allshifts,'neg_dbinfo':neg_dbinfo},open('mnist_bound_example.p','wb'))"
   ]
  },
  {
   "cell_type": "code",
   "execution_count": 23,
   "metadata": {},
   "outputs": [
    {
     "data": {
      "text/plain": [
       "<matplotlib.image.AxesImage at 0x7fa8d07ee668>"
      ]
     },
     "execution_count": 23,
     "metadata": {},
     "output_type": "execute_result"
    },
    {
     "data": {
      "image/png": "[encoded data removed]",
      "text/plain": [
       "<matplotlib.figure.Figure at 0x7fa8e45d5ac8>"
      ]
     },
     "metadata": {},
     "output_type": "display_data"
    }
   ],
   "source": [
    "plt.matshow(np.reshape(X[0,:],[5,5]))"
   ]
  },
  {
   "cell_type": "code",
   "execution_count": 24,
   "metadata": {},
   "outputs": [
    {
     "data": {
      "text/plain": [
       "<matplotlib.colorbar.Colorbar at 0x7fa8e445a208>"
      ]
     },
     "execution_count": 24,
     "metadata": {},
     "output_type": "execute_result"
    },
    {
     "data": {
      "image/png": "[encoded data removed]",
      "text/plain": [
       "<matplotlib.figure.Figure at 0x7fa8e445a3c8>"
      ]
     },
     "metadata": {},
     "output_type": "display_data"
    }
   ],
   "source": [
    "plt.matshow(np.reshape(np.max(np.c_[neg_allshifts,pos_allshifts],1),[5,5]),cmap='gray')\n",
    "plt.colorbar()"
   ]
  },
  {
   "cell_type": "markdown",
   "metadata": {},
   "source": [
    "The above plot shows the value of the bound for each pixel.\n",
    "**BUG**: I find the dark patch at the top a bit dubious and wonder if there's a bug?\n",
    "\n",
    "Only two pixels changing to cause an adversarial sample seems maybe unlikely, but we can check by bruteforce search (flipping every possible pair of pixels)."
   ]
  },
  {
   "cell_type": "code",
   "execution_count": 9,
   "metadata": {},
   "outputs": [
    {
     "data": {
      "text/plain": [
       "1.0764346339068209"
      ]
     },
     "execution_count": 9,
     "metadata": {},
     "output_type": "execute_result"
    }
   ],
   "source": [
    "preds = getpred(Xtest,X,Y,l)\n",
    "np.max(preds)-np.min(preds)"
   ]
  },
  {
   "cell_type": "markdown",
   "metadata": {},
   "source": [
    "## Bruteforce\n",
    "\n",
    "Here we just set all combinations of two pixels to 255.\n",
    "\n",
    "*This isn't necessarily going to give us the largest change two pixels can cause, as there might be intermediate values that cause greater changes to the prediction (the GP regression isn't a linear sum of the pixels).*"
   ]
  },
  {
   "cell_type": "code",
   "execution_count": 63,
   "metadata": {},
   "outputs": [
    {
     "name": "stdout",
     "output_type": "stream",
     "text": [
      "[[-0.91929264]]\n",
      "[ 0.]\n"
     ]
    },
    {
     "data": {
      "text/plain": [
       "<matplotlib.colorbar.Colorbar at 0x7f608883b5f8>"
      ]
     },
     "execution_count": 63,
     "metadata": {},
     "output_type": "execute_result"
    },
    {
     "data": {
      "image/png": "[encoded data removed]",
      "text/plain": [
       "<matplotlib.figure.Figure at 0x7f60888c6b38>"
      ]
     },
     "metadata": {},
     "output_type": "display_data"
    },
    {
     "data": {
      "image/png": "[encoded data removed]",
      "text/plain": [
       "<matplotlib.figure.Figure at 0x7f60888549e8>"
      ]
     },
     "metadata": {},
     "output_type": "display_data"
    }
   ],
   "source": [
    "confident = np.argmax(-(1-Y)*(getpred(X,X,Y,l)))\n",
    "advX = X[confident:(confident+1),:].copy() #the initial test point we're going to use...\n",
    "width = 3\n",
    "plt.matshow(advX.reshape(width,width),cmap='gray')\n",
    "plt.colorbar()\n",
    "print(getpred(advX,X,Y,l))\n",
    "N = width*width\n",
    "adv = advX.copy()\n",
    "for it in range(1):\n",
    "    adv = adv.repeat(N,0)\n",
    "    for i in range(N):\n",
    "        adv[i::N,i]=150\n",
    "        \n",
    "bigest = -np.Inf\n",
    "bigestim = None\n",
    "for it in range(len(adv)):\n",
    "    b = adv[it,:][None,:]\n",
    "    for it in range(1):\n",
    "        b = b.repeat(N,0)\n",
    "        for i in range(N):\n",
    "            b[i::N,i]=150\n",
    "    preds = getpred(b,X,Y,l)\n",
    "    minpredi = np.argmax(preds)\n",
    "    if (preds[minpredi]>bigest):\n",
    "        bigest = preds[minpredi]\n",
    "        bigestim = b[minpredi]        \n",
    "        \n",
    "print(bigest)\n",
    "plt.matshow(bigestim.reshape(width,width),cmap='gray')\n",
    "plt.colorbar()"
   ]
  },
  {
   "cell_type": "markdown",
   "metadata": {},
   "source": [
    "Adding two pixels (interestingly at the locations the earlier bounds found had the largest effect) cause this training point for a 1 to be reclassified as a 0, but not confidently. However as I mentioned there might be more effective perturbations of the same magnitude."
   ]
  },
  {
   "cell_type": "markdown",
   "metadata": {},
   "source": [
    "# Summary\n",
    "\n",
    "- The method allows us to put bounds on how robust a GP regression model is (with an RBF kernel).\n",
    "- For the examples given one might argue the brute-force search is better, but we should maybe show that these don't properly search the whole space of perturbation.\n",
    "- We found that lengthscale interacted as we expected, with a short lengthscale, only one of five inputs needed to change, with an intermediate lengthscale two had to change, and with a long lengthscale three had to change."
   ]
  },
  {
   "cell_type": "code",
   "execution_count": null,
   "metadata": {},
   "outputs": [],
   "source": []
  }
 ],
 "metadata": {
  "kernelspec": {
   "display_name": "Python 3",
   "language": "python",
   "name": "python3"
  },
  "language_info": {
   "codemirror_mode": {
    "name": "ipython",
    "version": 3
   },
   "file_extension": ".py",
   "mimetype": "text/x-python",
   "name": "python",
   "nbconvert_exporter": "python",
   "pygments_lexer": "ipython3",
   "version": "3.6.3"
  }
 },
 "nbformat": 4,
 "nbformat_minor": 2
}
