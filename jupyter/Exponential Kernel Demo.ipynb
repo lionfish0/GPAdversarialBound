{
 "cells": [
  {
   "cell_type": "code",
   "execution_count": 1,
   "metadata": {},
   "outputs": [],
   "source": [
    "from boundmixofgaussians import findpeak, compute_sum, compute_grad\n",
    "import numpy as np\n",
    "np.set_printoptions(suppress=True,precision=3)\n",
    "import matplotlib.pyplot as plt\n",
    "%matplotlib inline\n",
    "from GPAdversarialBound import getallchanges, zeromean_gaussian, getbound, AdversBound, compute_bounds\n",
    "from GPAdversarialBound.logistic import get_logistic_result\n",
    "from GPAdversarialDatasets import getMNISTexample, getbankexample, getcreditexample, getspamexample,getsynthexample\n",
    "import GPy\n",
    "# from GPAdversarialBound.test import testing\n",
    "# testing()"
   ]
  },
  {
   "cell_type": "markdown",
   "metadata": {},
   "source": [
    "# System Testing"
   ]
  },
  {
   "cell_type": "code",
   "execution_count": 2,
   "metadata": {},
   "outputs": [
    {
     "name": "stderr",
     "output_type": "stream",
     "text": [
      "reconstraining parameters gp_classification.rbf.variance\n",
      "reconstraining parameters gp_classification.rbf.variance\n"
     ]
    },
    {
     "name": "stdout",
     "output_type": "stream",
     "text": [
      "not sparse...\n",
      "Starting...\n",
      ".."
     ]
    }
   ],
   "source": [
    "Xtrain = np.array([[0.5,0.5]])#np.random.rand(,3)\n",
    "Ytrain = np.array([[1]]).T#(np.sum(Xtrain,1)>2.5).astype(int)[:,None]\n",
    "Xtest = np.random.rand(20,3)\n",
    "Ytest = (np.sum(Xtest,1)>2.5).astype(int)[:,None]\n",
    "\n",
    "#k = GPy.kern.Exponential(Xtrain.shape[1])\n",
    "k = GPy.kern.RBF(Xtrain.shape[1])\n",
    "results, m, _, accuracy, abCI,debug = compute_bounds(Xtrain,Ytrain,Xtest,Ytest,depth=1, sparse=None, ls=0.5, v=5, sigma=0.0001,nstep_per_dim=5,k=k)\n",
    "assert np.abs(np.max(results[0])-(debug['alpha'][0]*5*(1-np.exp(-0.5**2/(2*0.5**2)))))<1e-5"
   ]
  },
  {
   "cell_type": "code",
   "execution_count": 3,
   "metadata": {},
   "outputs": [
    {
     "name": "stderr",
     "output_type": "stream",
     "text": [
      "reconstraining parameters gp_classification.rbf.variance\n",
      "reconstraining parameters gp_classification.rbf.variance\n"
     ]
    },
    {
     "name": "stdout",
     "output_type": "stream",
     "text": [
      "not sparse...\n",
      "Starting...\n",
      ".."
     ]
    }
   ],
   "source": [
    "Xtrain = np.array([[0.5,0.5]])#np.random.rand(,3)\n",
    "Ytrain = np.array([[1]]).T#(np.sum(Xtrain,1)>2.5).astype(int)[:,None]\n",
    "Xtest = np.random.rand(20,3)\n",
    "Ytest = (np.sum(Xtest,1)>2.5).astype(int)[:,None]\n",
    "\n",
    "#k = GPy.kern.Exponential(Xtrain.shape[1])\n",
    "k = GPy.kern.RBF(Xtrain.shape[1])\n",
    "results, m, _, accuracy, abCI,debug = compute_bounds(Xtrain,Ytrain,Xtest,Ytest,depth=1, sparse=None, ls=0.5, v=5, sigma=0.0001,nstep_per_dim=1,k=k)\n",
    "assert np.abs(np.max(results[0])-(debug['alpha'][0]*5*(1-np.exp(-0.5**2/(2*0.5**2)))))<1e-5"
   ]
  },
  {
   "cell_type": "code",
   "execution_count": 4,
   "metadata": {},
   "outputs": [
    {
     "name": "stderr",
     "output_type": "stream",
     "text": [
      "reconstraining parameters gp_classification.Exponential.variance\n",
      "reconstraining parameters gp_classification.Exponential.variance\n"
     ]
    },
    {
     "name": "stdout",
     "output_type": "stream",
     "text": [
      "not sparse...\n",
      "Starting...\n",
      ".."
     ]
    }
   ],
   "source": [
    "import GPy\n",
    "\n",
    "Xtrain = np.array([[0.5,0.5],[0.3,0.3]])#np.random.rand(,3)\n",
    "\n",
    "Ytrain = np.array([[1,1]]).T#(np.sum(Xtrain,1)>2.5).astype(int)[:,None]\n",
    "#Xtrain = np.random.rand(20,2)\n",
    "#Ytrain = (np.random.rand(20)+np.sum(Xtrain,1)>2.5).astype(int)[:,None] \n",
    "Xtest = np.random.rand(20,2)\n",
    "Ytest = (np.sum(Xtest,1)>2.5).astype(int)[:,None]\n",
    "\n",
    "for k,kname in zip([GPy.kern.Exponential(Xtrain.shape[1]),GPy.kern.RBF(Xtrain.shape[1])],['Exp','EQ']):\n",
    "    v = 5\n",
    "    ls = 2.0\n",
    "    results, m, _, accuracy, abCI,debug = compute_bounds(Xtrain,Ytrain,Xtest,Ytest,depth=1, sparse=None, ls=ls, v=v, sigma=0.0001,nstep_per_dim=30,k=k)\n",
    "    x = np.linspace(0,1,100)\n",
    "    if kname == 'Exp':\n",
    "        vals = (debug['alpha'][None,:]*v*np.exp(-np.abs(x[:,None]-debug['abXs'][:,0])/(ls))).T\n",
    "    if kname == 'EQ':\n",
    "        vals = (debug['alpha'][None,:]*v*np.exp(-(x[:,None]-debug['abXs'][:,0])**2/(2*ls**2))).T\n",
    "       \n",
    "    sumvals = np.sum(vals,0)\n",
    "    empirical_change = np.max(sumvals)-np.min(sumvals)\n",
    "    theoretical_bound = [res[0][-1] for res in results][0][0]\n",
    "    assert empirical_change<theoretical_bound\n",
    "    break"
   ]
  },
  {
   "cell_type": "code",
   "execution_count": 5,
   "metadata": {},
   "outputs": [
    {
     "data": {
      "text/plain": [
       "(0.3401446895402089, 0.3238746060292328, 1.0502357492933778)"
      ]
     },
     "execution_count": 5,
     "metadata": {},
     "output_type": "execute_result"
    }
   ],
   "source": [
    "theoretical_bound,empirical_change,theoretical_bound/empirical_change"
   ]
  },
  {
   "cell_type": "code",
   "execution_count": null,
   "metadata": {},
   "outputs": [],
   "source": []
  },
  {
   "cell_type": "code",
   "execution_count": 26,
   "metadata": {
    "scrolled": true
   },
   "outputs": [
    {
     "name": "stderr",
     "output_type": "stream",
     "text": [
      "reconstraining parameters gp_classification.Exponential.variance\n",
      "reconstraining parameters gp_classification.Exponential.variance\n"
     ]
    },
    {
     "name": "stdout",
     "output_type": "stream",
     "text": [
      "not sparse...\n",
      "Starting...\n",
      ".."
     ]
    },
    {
     "name": "stderr",
     "output_type": "stream",
     "text": [
      "reconstraining parameters gp_classification.rbf.variance\n",
      "reconstraining parameters gp_classification.rbf.variance\n"
     ]
    },
    {
     "name": "stdout",
     "output_type": "stream",
     "text": [
      "[[ 0.253 -0.253]]\n",
      "not sparse...\n",
      "Starting...\n",
      "..[[ 0.253 -0.253]]\n"
     ]
    },
    {
     "name": "stderr",
     "output_type": "stream",
     "text": [
      "reconstraining parameters gp_classification.Exponential.variance\n"
     ]
    },
    {
     "name": "stdout",
     "output_type": "stream",
     "text": [
      "not sparse...\n"
     ]
    },
    {
     "name": "stderr",
     "output_type": "stream",
     "text": [
      "reconstraining parameters gp_classification.Exponential.variance\n"
     ]
    },
    {
     "name": "stdout",
     "output_type": "stream",
     "text": [
      "Starting...\n",
      ".."
     ]
    },
    {
     "name": "stderr",
     "output_type": "stream",
     "text": [
      "reconstraining parameters gp_classification.rbf.variance\n"
     ]
    },
    {
     "name": "stdout",
     "output_type": "stream",
     "text": [
      "[[ 0.386 -0.386]]\n",
      "not sparse...\n"
     ]
    },
    {
     "name": "stderr",
     "output_type": "stream",
     "text": [
      "reconstraining parameters gp_classification.rbf.variance\n"
     ]
    },
    {
     "name": "stdout",
     "output_type": "stream",
     "text": [
      "Starting...\n",
      "..[[ 0.591 -0.591]]\n"
     ]
    },
    {
     "name": "stderr",
     "output_type": "stream",
     "text": [
      "reconstraining parameters gp_classification.Exponential.variance\n",
      "reconstraining parameters gp_classification.Exponential.variance\n"
     ]
    },
    {
     "name": "stdout",
     "output_type": "stream",
     "text": [
      "not sparse...\n",
      "Starting...\n",
      ".."
     ]
    },
    {
     "name": "stderr",
     "output_type": "stream",
     "text": [
      "reconstraining parameters gp_classification.rbf.variance\n"
     ]
    },
    {
     "name": "stdout",
     "output_type": "stream",
     "text": [
      "[[ 0.591 -0.591]]\n"
     ]
    },
    {
     "name": "stderr",
     "output_type": "stream",
     "text": [
      "reconstraining parameters gp_classification.rbf.variance\n"
     ]
    },
    {
     "name": "stdout",
     "output_type": "stream",
     "text": [
      "not sparse...\n",
      "Starting...\n",
      "..[[ 0.779 -0.779]]\n"
     ]
    },
    {
     "name": "stderr",
     "output_type": "stream",
     "text": [
      "reconstraining parameters gp_classification.Exponential.variance\n",
      "reconstraining parameters gp_classification.Exponential.variance\n"
     ]
    },
    {
     "name": "stdout",
     "output_type": "stream",
     "text": [
      "not sparse...\n",
      "Starting...\n",
      ".."
     ]
    },
    {
     "name": "stderr",
     "output_type": "stream",
     "text": [
      "reconstraining parameters gp_classification.rbf.variance\n",
      "reconstraining parameters gp_classification.rbf.variance\n"
     ]
    },
    {
     "name": "stdout",
     "output_type": "stream",
     "text": [
      "[[ 0.253 -0.253]]\n",
      "not sparse...\n",
      "Starting...\n",
      "..[[ 0.253 -0.253]]\n"
     ]
    },
    {
     "name": "stderr",
     "output_type": "stream",
     "text": [
      "reconstraining parameters gp_classification.Exponential.variance\n",
      "reconstraining parameters gp_classification.Exponential.variance\n"
     ]
    },
    {
     "name": "stdout",
     "output_type": "stream",
     "text": [
      "not sparse...\n",
      "Starting...\n",
      ".."
     ]
    },
    {
     "name": "stderr",
     "output_type": "stream",
     "text": [
      "reconstraining parameters gp_classification.rbf.variance\n",
      "reconstraining parameters gp_classification.rbf.variance\n"
     ]
    },
    {
     "name": "stdout",
     "output_type": "stream",
     "text": [
      "[[ 0.386 -0.386]]\n",
      "not sparse...\n",
      "Starting...\n",
      ".."
     ]
    },
    {
     "name": "stderr",
     "output_type": "stream",
     "text": [
      "reconstraining parameters gp_classification.Exponential.variance\n",
      "reconstraining parameters gp_classification.Exponential.variance\n"
     ]
    },
    {
     "name": "stdout",
     "output_type": "stream",
     "text": [
      "[[ 0.591 -0.591]]\n",
      "not sparse...\n",
      "Starting...\n",
      ".."
     ]
    },
    {
     "name": "stderr",
     "output_type": "stream",
     "text": [
      "reconstraining parameters gp_classification.rbf.variance\n",
      "reconstraining parameters gp_classification.rbf.variance\n"
     ]
    },
    {
     "name": "stdout",
     "output_type": "stream",
     "text": [
      "[[ 0.591 -0.591]]\n",
      "not sparse...\n",
      "Starting...\n",
      ".."
     ]
    },
    {
     "name": "stderr",
     "output_type": "stream",
     "text": [
      "reconstraining parameters gp_classification.Exponential.variance\n",
      "reconstraining parameters gp_classification.Exponential.variance\n"
     ]
    },
    {
     "name": "stdout",
     "output_type": "stream",
     "text": [
      "[[ 0.779 -0.779]]\n",
      "not sparse...\n",
      "Starting...\n",
      ".."
     ]
    },
    {
     "name": "stderr",
     "output_type": "stream",
     "text": [
      "reconstraining parameters gp_classification.rbf.variance\n",
      "reconstraining parameters gp_classification.rbf.variance\n"
     ]
    },
    {
     "name": "stdout",
     "output_type": "stream",
     "text": [
      "[[ 0.253 -0.253]]\n",
      "not sparse...\n",
      "Starting...\n",
      ".."
     ]
    },
    {
     "name": "stderr",
     "output_type": "stream",
     "text": [
      "reconstraining parameters gp_classification.Exponential.variance\n",
      "reconstraining parameters gp_classification.Exponential.variance\n"
     ]
    },
    {
     "name": "stdout",
     "output_type": "stream",
     "text": [
      "[[ 0.253 -0.253]]\n",
      "not sparse...\n",
      "Starting...\n",
      ".."
     ]
    },
    {
     "name": "stderr",
     "output_type": "stream",
     "text": [
      "reconstraining parameters gp_classification.rbf.variance\n",
      "reconstraining parameters gp_classification.rbf.variance\n"
     ]
    },
    {
     "name": "stdout",
     "output_type": "stream",
     "text": [
      "[[ 0.386 -0.386]]\n",
      "not sparse...\n",
      "Starting...\n",
      ".."
     ]
    },
    {
     "name": "stderr",
     "output_type": "stream",
     "text": [
      "reconstraining parameters gp_classification.Exponential.variance\n",
      "reconstraining parameters gp_classification.Exponential.variance\n"
     ]
    },
    {
     "name": "stdout",
     "output_type": "stream",
     "text": [
      "[[ 0.591 -0.591]]\n",
      "not sparse...\n",
      "Starting...\n",
      ".."
     ]
    },
    {
     "name": "stderr",
     "output_type": "stream",
     "text": [
      "reconstraining parameters gp_classification.rbf.variance\n",
      "reconstraining parameters gp_classification.rbf.variance\n"
     ]
    },
    {
     "name": "stdout",
     "output_type": "stream",
     "text": [
      "[[ 0.591 -0.591]]\n",
      "not sparse...\n",
      "Starting...\n",
      "..[[ 0.779 -0.779]]\n"
     ]
    },
    {
     "data": {
      "image/png": "[encoded data removed]",
      "text/plain": [
       "<Figure size 864x864 with 9 Axes>"
      ]
     },
     "metadata": {
      "needs_background": "light"
     },
     "output_type": "display_data"
    }
   ],
   "source": [
    "import GPy\n",
    "from time import time\n",
    "\n",
    "Xtrain = np.array([[0.5,0.5],[0.3,0.5]])#np.random.rand(,3)\n",
    "Ytrain = np.array([[1,0]]).T#(np.sum(Xtrain,1)>2.5).astype(int)[:,None]\n",
    "#Xtrain = np.random.rand(20,2)\n",
    "#Ytrain = (np.random.rand(20)+np.sum(Xtrain,1)>2.5).astype(int)[:,None] \n",
    "Xtest = np.random.rand(20,2)\n",
    "Ytest = (np.sum(Xtest,1)>2.5).astype(int)[:,None]\n",
    "figi=0\n",
    "plt.figure(figsize=[12,12])\n",
    "for nstep_per_dim in [2,8,32]:\n",
    "    for ls in [0.1,0.4,1.6]:\n",
    "        figi+=1\n",
    "        plt.subplot(3,3,figi)\n",
    "        totaltimes = []\n",
    "        for k,kname,col in zip([GPy.kern.Exponential(Xtrain.shape[1]),GPy.kern.RBF(Xtrain.shape[1])],['Exp','EQ'],['b','r']):\n",
    "\n",
    "            v = 5\n",
    "            #ls = 0.3\n",
    "            starttime = time()\n",
    "            results, m, _, accuracy, abCI,debug = compute_bounds(Xtrain,Ytrain,Xtest,Ytest,depth=1, sparse=None, ls=ls, v=v, sigma=0.0001,nstep_per_dim=nstep_per_dim,k=k)\n",
    "            totaltimes.append(time() - starttime)\n",
    "            x = np.linspace(0,1,100)\n",
    "            if kname == 'Exp':\n",
    "                vals = (debug['alpha'][None,:]*v*np.exp(-np.abs(x[:,None]-debug['abXs'][:,0])/(ls))).T\n",
    "            if kname == 'EQ':\n",
    "                vals = (debug['alpha'][None,:]*v*np.exp(-(x[:,None]-debug['abXs'][:,0])**2/(2*ls**2))).T\n",
    "\n",
    "            sumvals = np.sum(vals,0)\n",
    "            empirical_change = np.max(sumvals)-np.min(sumvals)\n",
    "            theoretical_bound = [res[0][-1] for res in results][0][0]\n",
    "\n",
    "            plt.plot(x,np.sum(vals,0),'-'+col,lw=3,label=kname)\n",
    "            #plt.plot(x,vals.T,'-'+col)\n",
    "            print(debug['alpha'][None,:])\n",
    "            plt.hlines([np.mean(sumvals)-theoretical_bound/2,np.mean(sumvals)+theoretical_bound/2],0,1,linestyles=':',colors=col)\n",
    "            pred_mean, pred_var = m.predict_noiseless(np.c_[x[:,None],np.full(100,0.5)])\n",
    "            #plt.plot(x,pred_mean[:,0],'g--',lw=5)\n",
    "            #plt.plot(x,pred_mean[:,0]+np.sqrt(pred_var[:,0]),':'+col,lw=1)\n",
    "            #plt.plot(x,pred_mean[:,0]-np.sqrt(pred_var[:,0]),':'+col,lw=1)\n",
    "        plt.text(0,-2,\"Exp = %0.2f s, EQ = %0.2f s\" % (totaltimes[0],totaltimes[1]))\n",
    "\n",
    "        plt.vlines(Xtrain[:,0],0,0.2,color='black')\n",
    "        if figi == 9: plt.legend()\n",
    "        plt.title('ls=%0.1f, slices=%d'%(ls,nstep_per_dim))\n",
    "        #plt.ylabel('Latent function mean')\n",
    "        #plt.xlabel('Input location along first axis')\n",
    "        plt.ylim([-2.1,2.2])\n",
    "plt.savefig('kernel_examples.pdf')"
   ]
  },
  {
   "cell_type": "code",
   "execution_count": 6,
   "metadata": {},
   "outputs": [],
   "source": [
    "!cp kernel_examples.pdf /home/mike/Documents/Research/SheffieldMLpublications/publications/adversarialGP/tex/machinelearning"
   ]
  },
  {
   "cell_type": "markdown",
   "metadata": {},
   "source": [
    "## MNIST Demo"
   ]
  },
  {
   "cell_type": "code",
   "execution_count": 2,
   "metadata": {},
   "outputs": [
    {
     "name": "stdout",
     "output_type": "stream",
     "text": [
      "Comparing 3 vs 5\n"
     ]
    }
   ],
   "source": [
    "trainingN = 100\n",
    "testN = 200\n",
    "fullX,Y = getMNISTexample(scalingfactor=4,Ntraining=trainingN+testN,splittype='35') #4\n",
    "keep = np.max(fullX,0)>50 #150\n",
    "X = fullX[:,keep]\n",
    "X=X-np.min(X,0)\n",
    "X=X/np.max(X,0)\n",
    "X = X*1.0\n",
    "Y = Y*1.0\n",
    "Y[Y==0]=-1\n",
    "Xtest = X[trainingN:,:]\n",
    "Ytest = Y[trainingN:,:]\n",
    "Xtrain = X[0:trainingN,:]\n",
    "Ytrain = Y[0:trainingN,:]"
   ]
  },
  {
   "cell_type": "code",
   "execution_count": 4,
   "metadata": {},
   "outputs": [
    {
     "name": "stderr",
     "output_type": "stream",
     "text": [
      "reconstraining parameters gp_classification.Exponential.variance\n",
      "reconstraining parameters sparse_gp.rbf.variance\n"
     ]
    },
    {
     "name": "stdout",
     "output_type": "stream",
     "text": [
      "Sparse...\n",
      "Starting...\n",
      "...................................---Exp---\n",
      "434.8639404773712\n",
      "0.74\n",
      "[3.182]\n",
      "[4.458 4.52  4.621 4.643 4.662 4.795 4.811 4.835 4.883 4.939 4.943 4.947\n",
      " 4.948 4.982 4.985 4.996 5.006 5.017 5.029 5.052 5.061 5.067 5.095 5.156\n",
      " 5.178 5.178 5.225 5.23  5.309 5.382 5.437 5.449 5.535 5.627 5.744]\n",
      "------\n"
     ]
    },
    {
     "name": "stderr",
     "output_type": "stream",
     "text": [
      "reconstraining parameters gp_classification.rbf.variance\n",
      "reconstraining parameters sparse_gp.rbf.variance\n"
     ]
    },
    {
     "name": "stdout",
     "output_type": "stream",
     "text": [
      "Sparse...\n",
      "Starting...\n",
      "...................................---EQ---\n",
      "63.34607219696045\n",
      "0.765\n",
      "[2.439]\n",
      "[0.713 0.762 0.764 0.805 0.805 0.83  0.85  0.869 0.883 0.911 0.915 0.932\n",
      " 0.967 0.974 0.983 1.002 1.01  1.033 1.038 1.041 1.056 1.056 1.078 1.085\n",
      " 1.111 1.121 1.124 1.14  1.187 1.237 1.276 1.321 1.343 1.369 1.88 ]\n",
      "------\n"
     ]
    }
   ],
   "source": [
    "from time import time\n",
    "for k,kname in zip([GPy.kern.Exponential(Xtrain.shape[1]),GPy.kern.RBF(Xtrain.shape[1])],['Exp','EQ']):\n",
    "    starttime = time()\n",
    "    results, m, _, accuracy, abCI,debug = compute_bounds(Xtrain,Ytrain,Xtest,Ytest,depth=1, ls=4, v=3, sparse=6, sigma=0.0001,nstep_per_dim=15,k=k)\n",
    "    print(\"---\"+kname+\"---\")\n",
    "    print(time()-starttime)\n",
    "    print(accuracy)\n",
    "    print(np.diff(abCI))\n",
    "    print(np.sort(np.array([r[0][-1] for r in results])[:,0]))\n",
    "    print(\"------\")"
   ]
  },
  {
   "cell_type": "markdown",
   "metadata": {},
   "source": [
    "# Notes on the construction of the approximation"
   ]
  },
  {
   "cell_type": "markdown",
   "metadata": {},
   "source": [
    "First optimised the weights and lengthscales..."
   ]
  },
  {
   "cell_type": "code",
   "execution_count": 32,
   "metadata": {},
   "outputs": [
    {
     "name": "stdout",
     "output_type": "stream",
     "text": [
      "[ 0.405  0.246  0.149  0.091  0.055  0.033  0.02   1.     1.648  2.714\n",
      "  4.472  7.368 12.139 20.   ]\n"
     ]
    }
   ],
   "source": [
    "import numpy as np\n",
    "from scipy.optimize import minimize\n",
    "d = 4\n",
    "gridstart=np.array([0]*d)\n",
    "gridend=np.array([10]*d)\n",
    "\n",
    "max_dist = np.sqrt(np.sum((gridend-gridstart)**2))\n",
    "\n",
    "ds = np.linspace(0,max_dist,10000)\n",
    "ls = 1.0\n",
    "num = 7\n",
    "def fn(X):\n",
    "    ws = (X[:num])\n",
    "    ws = ws / np.sum(ws)\n",
    "    lens = X[num:]\n",
    "    s = np.zeros_like(ds)\n",
    "\n",
    "    for w,ln in zip(ws,lens):\n",
    "        s = s + w * np.exp(-(ds**2)/(2*ln**2))\n",
    "\n",
    "    r = np.sum((s-np.exp(-ds/ls))**2)\n",
    "    return r\n",
    "\n",
    "ws = np.exp(np.linspace(np.log(max_dist),0,num))\n",
    "ws = ws/np.sum(ws)\n",
    "x0 = np.r_[ws,np.exp(np.linspace(0,np.log(max_dist),num))]\n",
    "print(x0)\n",
    "res = minimize(fn,x0,bounds=[(1e-10,1000)]*len(x0),options={'ftol':1e-20,'gtol':1e-20,'maxiter':1e4})"
   ]
  },
  {
   "cell_type": "code",
   "execution_count": 33,
   "metadata": {},
   "outputs": [
    {
     "data": {
      "text/plain": [
       "(array([ 56.526, 115.704, 189.349, 151.374,  98.024, 216.327,   0.384]),\n",
       " array([ 0.038,  0.163,  0.919,  1.846,  0.919,  0.424, 17.079]),\n",
       " array([], dtype=float64))"
      ]
     },
     "execution_count": 33,
     "metadata": {},
     "output_type": "execute_result"
    }
   ],
   "source": [
    "x = res.x\n",
    "ws = x[:num]\n",
    "ws = ws / np.sum(ws)\n",
    "lens = x[num:]\n",
    "reorder = np.argsort(lens**2)\n",
    "lens = lens[reorder]\n",
    "ws = ws[reorder]\n",
    "print(lens)\n",
    "print(ws)"
   ]
  },
  {
   "cell_type": "markdown",
   "metadata": {},
   "source": [
    "# Actual numbers used"
   ]
  },
  {
   "cell_type": "code",
   "execution_count": 12,
   "metadata": {},
   "outputs": [
    {
     "data": {
      "image/png": "[encoded data removed]",
      "text/plain": [
       "<Figure size 504x360 with 1 Axes>"
      ]
     },
     "metadata": {
      "needs_background": "light"
     },
     "output_type": "display_data"
    }
   ],
   "source": [
    "import numpy as np\n",
    "hws = np.array([0.06829387, 0.13979143, 0.26136302, 0.11843095, 0.22876908,0.18288816, 0.00046348])\n",
    "lws = hws.copy()\n",
    "lens = np.array([ 0.038469  ,  0.16337993,  0.42350206,  0.91900753,  0.91912203, 1.84561768, 17.07884635])\n",
    "import matplotlib.pyplot as plt\n",
    "d = 4\n",
    "gridstart=np.array([0]*d)\n",
    "gridend=np.array([10]*d)\n",
    "max_dist = np.sqrt(np.sum((gridend-gridstart)**2))\n",
    "ds = np.linspace(0,max_dist,10000)\n",
    "ls = 1.0\n",
    "num = 7\n",
    "\n",
    "plt.figure(figsize=[7,5])\n",
    "\n",
    "lws[0]-= 0.003\n",
    "lws[1]-= 0.0025\n",
    "lws[2]-= 0.0035\n",
    "lws[-1]-=0.0013\n",
    "hws[1]+= 0.002\n",
    "hws[2]+= 0.004\n",
    "hws[-1]+=0.0018\n",
    "#lws[:]-=0.0003\n",
    "for ws,lab in zip([hws,lws],['upper','lower']):\n",
    "    s = np.zeros_like(d)\n",
    "    for w,ln in zip(ws,lens):\n",
    "        s = s + w * np.exp(-(ds**2)/(2*ln**2))\n",
    "    \n",
    "        plt.plot(ds,w * np.exp(-(ds**2)/(2*ln**2)),'-k',alpha=0.2)\n",
    "    plt.plot(ds,s,'b-',alpha=0.5,label=lab)#np.exp(-ds/ls))\n",
    "    #plt.plot(ds,s-np.exp(-ds/ls))\n",
    "    #print(np.min(s-np.exp(-ds/ls)),np.max(s-np.exp(-ds/ls)))\n",
    "plt.grid()\n",
    "\n",
    "plt.plot(ds,np.exp(-ds/ls),'--',lw=3)\n",
    "#plt.legend()\n",
    "plt.xlim([0,3])\n",
    "\n",
    "plt.savefig('kernel_approx.pdf')"
   ]
  },
  {
   "cell_type": "code",
   "execution_count": 13,
   "metadata": {},
   "outputs": [],
   "source": [
    "!cp kernel_approx.pdf /home/mike/Documents/Research/SheffieldMLpublications/publications/adversarialGP/tex/machinelearning"
   ]
  },
  {
   "cell_type": "code",
   "execution_count": null,
   "metadata": {},
   "outputs": [],
   "source": []
  }
 ],
 "metadata": {
  "kernelspec": {
   "display_name": "Python 3",
   "language": "python",
   "name": "python3"
  },
  "language_info": {
   "codemirror_mode": {
    "name": "ipython",
    "version": 3
   },
   "file_extension": ".py",
   "mimetype": "text/x-python",
   "name": "python",
   "nbconvert_exporter": "python",
   "pygments_lexer": "ipython3",
   "version": "3.8.3"
  }
 },
 "nbformat": 4,
 "nbformat_minor": 2
}
