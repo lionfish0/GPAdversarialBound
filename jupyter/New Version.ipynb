{
 "cells": [
  {
   "cell_type": "markdown",
   "metadata": {},
   "source": [
    "# Introduction\n",
    "\n",
    "The previous version of the algorithm did not have sufficiently tight bounds. Hopefully this version will improve on this. We explain the algorithm, then implement it, step by step in the notebook below.\n",
    "\n",
    "1) Consider the GP prediction as the sum of exponentiated quadratics centred on all the training points.\n",
    "2) Split the world into hypercubes.\n",
    "3) Consider one dimension d.\n",
    "4) Find how much each of the EQs changes over a given dimension (d) within each hypercube, effectively we just evaluate each EQ in the one dimension (d) at the start and end of the hypercube. We use these 'integrals' (of the derivative over d) as the peak values in the following mixture of Gaussians... we call this result $D^{all}$. Note that the locations can lie outside the hypercube, in the non-d dimensions.\n",
    "5) Repeat the above but subtract the maximum of the EQ (e.g. if it has a peak that is inside the hypercube this will be different from the result in step 4) from its minimum. We again use these differences as peak values in the following... we call this $D^+$\n",
    "\n",
    "6) We reintroduce the other dimensions of the hypercube. We can imagine the total change made to the predictions over the d-1 plane (of remaining dimensions) by moving a $d-1$ plane from one side of the hypercube to the other (along dimension d). This can be represented as a series of gaussians (EQs), each centred at one of the training points.\n",
    "\n",
    "<pre>\n",
    "d=2 example, n=3.        ------> sum of EQs   \n",
    "                       |    .\n",
    "                       |      .\n",
    "      x                |       .  <-x\n",
    " ______________        |__   .\n",
    "|              |  ,    |  .\n",
    "|        o     | /|\\   | .        <-o\n",
    "|              |  |    |   .\n",
    "|   x          |  |    |      .   <-x maximum within bounds of hypercube\n",
    "|______________|  |z   |__   .\n",
    "  ---------> d         |   .\n",
    "                       |  .\n",
    "                       | .\n",
    "\n",
    "training points\n",
    "x with weight = 1\n",
    "o with weight = -1\n",
    "</pre>\n",
    "\n",
    "In the figure, imagine the distribution along the other axis (z) - it will be three EQs over one ($d-1$) dimensions. This sum will be the sum of three EQs (of d-1) dimensions centred at the locations of the training points (with the dth dimension removed).\n",
    "\n",
    "7) We want to find the largest change possible in the prediction by moving along the d-axis, over the hypercube, both if we've stopped the integration somewhere within it, or if the integration was over the whole cube. Hence we needed the two results (from 4 and 5)...\n",
    "8) We therefore will later be interested in the largest value in the $d-1$ space of this sum of gaussians. We will also be interested in the case in which the negative EQs are removed.\n",
    "\n",
    "9) We next consider lists of hypercubes that one needs to pass through to get from the start to the end of dimension d. E.g. in this figure you need to pass through for example C, I, D and H. A full list of possible combinations will need to be made, e.g.:\n",
    "<pre>\n",
    "C I D H\n",
    "C I D G\n",
    "B D G\n",
    "B D F\n",
    "..etc\n",
    "\n",
    " ________________\n",
    "|    |  |    |  |\n",
    "| b  | d|    |H |\n",
    "|   C|I | D  |_f|\n",
    "|____|__|  e |G |\n",
    "|   B c |    |__|\n",
    "|_______|____|F |\n",
    "|            |__|\n",
    "xa   x  H    |E |\n",
    "|____________|__|\n",
    "0 1 2 3 4 5 6 7 8\n",
    "\n",
    "Where A-I are the 9 hypercuboids, a-f are the peaks of the EQs.</pre>\n",
    "\n",
    "10) For each list we need to consider all possible start and ends, for the first list the possible combinations are:\n",
    "<pre>\n",
    "C->C\n",
    "C->I\n",
    "C->D\n",
    "C->H\n",
    "I->I\n",
    "I->D\n",
    "..etc\n",
    "</pre>\n",
    "11) For each combination we then combine all the EQs from the hypercubes:\n",
    "E.g. for the C->D list:\n",
    "\n",
    "[$D^+$ EQs from <texttt>C</texttt>] + [$D^{all}$ EQs from <texttt>I</texttt>] + [$D^+$ EQs from <texttt>D</texttt>]\n",
    "\n",
    "\n",
    "So the $D^+$ for hypercube C, would consist of:\n",
    "- for a the difference between the minima and maxima of the value of a's EQ between 0 to 2.5 along a's other axes (i.e between the two bold xs)\n",
    "- the same computation for b.\n",
    "\n",
    "For the $D^{all}$ for hypercube I:\n",
    "for point d we find the difference between the value of d's EQ at 2.5 and 4 (in the same axis in d's other dimensions).\n",
    "As we're looking for the maximum possible change between a point in C to a point in D, we know that we must pass through the whole of I, hence why we include all the negative and positive gradient parts of the EQs.\n",
    "\n",
    "12) We are left with a sum of EQs (all with the same lengthscales etc) but with different weights and locations (in a $d-1$ space), for each of the pairs of possible starts and ends.\n",
    "\n",
    "13) For each of these sums. We want to find a bound on the maximum of this sum. (see other emails/module for this).\n",
    "\n",
    "14) We find the maximum bound for each of the sums. And that is an upper bound on the largest change that can happen for any movement along the d axis.\n"
   ]
  },
  {
   "cell_type": "markdown",
   "metadata": {},
   "source": [
    "So the first steps we need to do maths for is (4) and (5):\n",
    "\n",
    ">    4) Find how much each of the EQs changes over a given dimension (d) within each hypercube, effectively we just evaluate each EQ in the one dimension (d) at the start and end of the hypercube. We use these 'integrals' (of the derivative over d) as the peak values in the following mixture of Gaussians... we call this result $D^{all}$. Note that the locations can lie outside the hypercube, in the non-d dimensions.\n",
    "\n",
    ">    5) Repeat the above but subtract the maximum of the EQ (e.g. if it has a peak that is inside the hypercube this will be different from the result in step 4) from its minimum. We again use these differences as peak values in the following... we call this $D^+$"
   ]
  },
  {
   "cell_type": "code",
   "execution_count": 124,
   "metadata": {},
   "outputs": [],
   "source": [
    "import numpy as np\n",
    "import matplotlib.pyplot as plt\n",
    "%matplotlib inline\n",
    "from boundmixofgaussians import zeromean_gaussian_1d, zeromean_gaussian, findbound"
   ]
  },
  {
   "cell_type": "code",
   "execution_count": 125,
   "metadata": {},
   "outputs": [],
   "source": [
    "ls = 2.0\n",
    "d = 0\n",
    "\n",
    "hypercube_starts = np.array([[1,2],[3,2],[5,2]])*1.0\n",
    "hypercube_ends = np.array([[3,5],[5,5],[7,5]])*1.0\n",
    "EQcentres = np.array([[1,2],[4,5],[2,0]])*1.0\n",
    "EQweights = np.array([1,2,-1])*1.0"
   ]
  },
  {
   "cell_type": "code",
   "execution_count": 126,
   "metadata": {},
   "outputs": [],
   "source": [
    "def getchanges(EQcentres, EQweights, hypercube_start, hypercube_end, d, ls):\n",
    "    #get the highest and lowest values of an EQ between the start and end, along dimension d\n",
    "\n",
    "    startvals = EQweights*zeromean_gaussian_1d(EQcentres[:,d]-hypercube_start[d],ls )\n",
    "    endvals = EQweights*zeromean_gaussian_1d(EQcentres[:,d]-hypercube_end[d],ls)\n",
    "\n",
    "    #if the peak is inside the cube we keep the peak weight, otherwise it's not of interest\n",
    "    midvals = EQweights.copy()\n",
    "    midvals[(EQcentres[:,d]<hypercube_start[d]) | (EQcentres[:,d]>hypercube_end[d])] = np.nan\n",
    "\n",
    "    #starting cube: we're interested in the biggest increase possible from any location to the end of the hypercube\n",
    "    #this is bound by the change from the values at the start to the values at the end\n",
    "    startchange = np.nanmax(np.array([endvals - startvals,endvals-midvals]),0)\n",
    "    startchange[startchange<0] = 0\n",
    "\n",
    "    #ending cube: we're interested in the biggest increase possible from the start to anywhere inside\n",
    "    endchange = np.nanmax(np.array([midvals - startvals,endvals - startvals]),0)\n",
    "    \n",
    "    innerchange = np.nanmax(np.array([midvals - startvals,endvals-midvals,endvals-startvals]),0)\n",
    "    \n",
    "    #middle cube: we're interested in the total change from start to end\n",
    "    midchange = endvals - startvals #negative values can be left in this\n",
    "  \n",
    "    return startchange, midchange, endchange, innerchange"
   ]
  },
  {
   "cell_type": "code",
   "execution_count": 136,
   "metadata": {},
   "outputs": [],
   "source": [
    "def findeffectbounds(EQcentres,EQweights,hypercube_start,hypercube_end,d,ls):\n",
    "    EQcentres_not_d = np.delete(EQcentres,d,1)\n",
    "    hc_start_not_d = np.delete(hypercube_start,d)\n",
    "    hc_end_not_d = np.delete(hypercube_end,d)\n",
    "    startchange, midchange, endchange, innerchange = getchanges(EQcentres, EQweights, hypercube_start, hypercube_end, d,ls)\n",
    "    #TODO I'm confused myself when the ignorenegatives should be set!\n",
    "    startbound = findbound(EQcentres_not_d,startchange,ls,1,0.1,hc_start_not_d,hc_end_not_d,ignorenegatives=True)\n",
    "    midbound = findbound(EQcentres_not_d,midchange,ls,1,0.1,hc_start_not_d,hc_end_not_d)\n",
    "    endbound = findbound(EQcentres_not_d,endchange,ls,1,0.1,hc_start_not_d,hc_end_not_d,ignorenegatives=True)\n",
    "    innerbound = findbound(EQcentres_not_d,innerchange,ls,1,0.1,hc_start_not_d,hc_end_not_d,ignorenegatives=True) #TODO note the d=1 in the params refers to the number of dims I think - need to make it vary depending on size of matrix, etc\n",
    "    return startbound, midbound, endbound,innerbound"
   ]
  },
  {
   "cell_type": "code",
   "execution_count": 133,
   "metadata": {},
   "outputs": [],
   "source": [
    "startbounds =[]\n",
    "midbounds = []\n",
    "endbounds = []\n",
    "innerbounds = []\n",
    "for hypercube_start, hypercube_end in zip(hypercube_starts,hypercube_ends):\n",
    "    startb, midb, endb, innerb = findeffectbounds(EQcentres,EQweights,hypercube_start,hypercube_end,d,ls)\n",
    "    startbounds.append(startb)\n",
    "    midbounds.append(midb)\n",
    "    endbounds.append(endb)\n",
    "    innerbounds.append(innerb)\n",
    "startbounds = np.array(startbounds)\n",
    "midbounds = np.array(midbounds)\n",
    "endbounds = np.array(endbounds)\n",
    "innerbounds = np.array(innerbounds)"
   ]
  },
  {
   "cell_type": "code",
   "execution_count": 134,
   "metadata": {},
   "outputs": [
    {
     "data": {
      "image/png": "[encoded data removed]",
      "text/plain": [
       "<matplotlib.figure.Figure at 0x7f71da85e470>"
      ]
     },
     "metadata": {},
     "output_type": "display_data"
    }
   ],
   "source": [
    "plt.plot(EQcentres[EQweights>0,0],EQcentres[EQweights>0,1],'s',markersize=10,label='positive')\n",
    "plt.plot(EQcentres[EQweights<0,0],EQcentres[EQweights<0,1],'o',markersize=10,label='negative')\n",
    "#plt.legend()\n",
    "for hypercube_start, hypercube_end in zip(hypercube_starts,hypercube_ends):\n",
    "    plt.plot([hypercube_start[0],hypercube_start[0],hypercube_end[0],hypercube_end[0],hypercube_start[0]],[hypercube_start[1],hypercube_end[1],hypercube_end[1],hypercube_start[1],hypercube_start[1]],'k-')\n",
    "plt.axis('equal')\n",
    "grid = np.arange(0,6)\n",
    "\n",
    "for i in range(len(EQweights)):\n",
    "    means = EQweights[i]*zeromean_gaussian_1d(grid-EQcentres[i,d],ls)\n",
    "    for g,m in zip(grid,means):\n",
    "        plt.text(g,i/4,\"%0.2f\" % m)"
   ]
  },
  {
   "cell_type": "code",
   "execution_count": 135,
   "metadata": {},
   "outputs": [
    {
     "name": "stdout",
     "output_type": "stream",
     "text": [
      "0 0 [1.12052327]\n",
      "0 1 1.5355633165331977\n",
      "0 2 [1.15873687]\n",
      "1 1 [0.41504005]\n",
      "1 2 0.5092617531820723\n",
      "2 2 [0.1707377]\n",
      "Maximum +ve change, left-to-right: 1.54\n"
     ]
    }
   ],
   "source": [
    "#here we go through the combinations of starts and ends in this simple line of hypercubes\n",
    "\n",
    "maxval = -np.inf\n",
    "for start in [0,1,2]:\n",
    "    print(start,start,innerbounds[start])\n",
    "    if innerbounds[start]>maxval: maxval = innerbounds[start]\n",
    "    for end in range(start+1,3):\n",
    "        tot = startbounds[start,0]+endbounds[end,0]\n",
    "        if end>start+1:\n",
    "            tot+=midbounds[(start+1):end,0]\n",
    "        print(start,end,tot)\n",
    "        if tot>maxval: maxval = tot\n",
    "print(\"Maximum +ve change, left-to-right: %0.2f\" % maxval)"
   ]
  },
  {
   "cell_type": "markdown",
   "metadata": {},
   "source": [
    "The largest increase in the function is a move from the left box to the middle box, with an upper bound increase of 1.54."
   ]
  },
  {
   "cell_type": "code",
   "execution_count": null,
   "metadata": {},
   "outputs": [],
   "source": []
  }
 ],
 "metadata": {
  "kernelspec": {
   "display_name": "Python 3",
   "language": "python",
   "name": "python3"
  },
  "language_info": {
   "codemirror_mode": {
    "name": "ipython",
    "version": 3
   },
   "file_extension": ".py",
   "mimetype": "text/x-python",
   "name": "python",
   "nbconvert_exporter": "python",
   "pygments_lexer": "ipython3",
   "version": "3.6.3"
  }
 },
 "nbformat": 4,
 "nbformat_minor": 2
}
